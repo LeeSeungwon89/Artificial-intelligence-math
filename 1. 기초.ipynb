{
  "nbformat": 4,
  "nbformat_minor": 0,
  "metadata": {
    "colab": {
      "name": "1. 기초.ipynb",
      "provenance": [],
      "toc_visible": true,
      "authorship_tag": "ABX9TyOkWqv0EHixCLDczYFLfLFC",
      "include_colab_link": true
    },
    "kernelspec": {
      "name": "python3",
      "display_name": "Python 3"
    },
    "language_info": {
      "name": "python"
    }
  },
  "cells": [
    {
      "cell_type": "markdown",
      "metadata": {
        "id": "view-in-github",
        "colab_type": "text"
      },
      "source": [
        "<a href=\"https://colab.research.google.com/github/LeeSeungwon89/Mathematics_for_Data_Analystics_Science/blob/main/1.%20%EA%B8%B0%EC%B4%88.ipynb\" target=\"_parent\"><img src=\"https://colab.research.google.com/assets/colab-badge.svg\" alt=\"Open In Colab\"/></a>"
      ]
    },
    {
      "cell_type": "markdown",
      "source": [
        "# **1. 거듭제곱 및 제곱근**"
      ],
      "metadata": {
        "id": "F7xp-PvwtF2T"
      }
    },
    {
      "cell_type": "markdown",
      "source": [
        "## **1.1. 거듭제곱**"
      ],
      "metadata": {
        "id": "qBm-QcJjt6Tp"
      }
    },
    {
      "cell_type": "markdown",
      "source": [
        "## **1.2. 제곱근**"
      ],
      "metadata": {
        "id": "R9cW76-et6QQ"
      }
    },
    {
      "cell_type": "markdown",
      "source": [
        "# **2. 다항식 함수**"
      ],
      "metadata": {
        "id": "bUaTLrRCtFzy"
      }
    },
    {
      "cell_type": "markdown",
      "source": [
        "## **2.1. 다항식**"
      ],
      "metadata": {
        "id": "c09AuU_YuHUK"
      }
    },
    {
      "cell_type": "markdown",
      "source": [
        "# **3. 삼각함수**"
      ],
      "metadata": {
        "id": "5nEylj8PtFxS"
      }
    },
    {
      "cell_type": "markdown",
      "source": [
        "## **3.1. 삼각함수**"
      ],
      "metadata": {
        "id": "EsmXmHQRuO5m"
      }
    },
    {
      "cell_type": "markdown",
      "source": [
        "# **4. 절댓값**"
      ],
      "metadata": {
        "id": "a0ub5fE2tFpc"
      }
    },
    {
      "cell_type": "markdown",
      "source": [
        "## **4.1. 절댓값**"
      ],
      "metadata": {
        "id": "zUqekGdvu2_7"
      }
    },
    {
      "cell_type": "markdown",
      "source": [
        "# **5. 총합 및 총곱**"
      ],
      "metadata": {
        "id": "280Z4pestFus"
      }
    },
    {
      "cell_type": "markdown",
      "source": [
        "## **5.1. 총합**"
      ],
      "metadata": {
        "id": "ME-4PW67uY6o"
      }
    },
    {
      "cell_type": "markdown",
      "source": [
        "## **5.2. 총곱**"
      ],
      "metadata": {
        "id": "WIvpsz8gucaR"
      }
    },
    {
      "cell_type": "markdown",
      "source": [
        "# **6. 난수**"
      ],
      "metadata": {
        "id": "VrblLHA-tFsM"
      }
    },
    {
      "cell_type": "markdown",
      "source": [
        "## **6.1. 난수**"
      ],
      "metadata": {
        "id": "IrXX8rW2uiCu"
      }
    },
    {
      "cell_type": "markdown",
      "source": [
        "## **6.1. 균일 난수**"
      ],
      "metadata": {
        "id": "9VXT7dxguh_1"
      }
    },
    {
      "cell_type": "markdown",
      "source": [
        "## **6.2. 편향 난수**"
      ],
      "metadata": {
        "id": "VLPMmPcDuh0e"
      }
    }
  ]
}