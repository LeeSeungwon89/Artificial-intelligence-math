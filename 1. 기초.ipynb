{
  "nbformat": 4,
  "nbformat_minor": 0,
  "metadata": {
    "colab": {
      "name": "1. 기초.ipynb",
      "provenance": [],
      "toc_visible": true,
      "authorship_tag": "ABX9TyP6suHCZPrsARC2KOmdJolP",
      "include_colab_link": true
    },
    "kernelspec": {
      "name": "python3",
      "display_name": "Python 3"
    },
    "language_info": {
      "name": "python"
    }
  },
  "cells": [
    {
      "cell_type": "markdown",
      "metadata": {
        "id": "view-in-github",
        "colab_type": "text"
      },
      "source": [
        "<a href=\"https://colab.research.google.com/github/LeeSeungwon89/Mathematics_for_Data_Analystics_Science/blob/main/1.%20%EA%B8%B0%EC%B4%88.ipynb\" target=\"_parent\"><img src=\"https://colab.research.google.com/assets/colab-badge.svg\" alt=\"Open In Colab\"/></a>"
      ]
    },
    {
      "cell_type": "markdown",
      "source": [
        "# **1. 거듭제곱 및 제곱근**"
      ],
      "metadata": {
        "id": "F7xp-PvwtF2T"
      }
    },
    {
      "cell_type": "markdown",
      "source": [
        "## **1.1. 거듭제곱**"
      ],
      "metadata": {
        "id": "qBm-QcJjt6Tp"
      }
    },
    {
      "cell_type": "markdown",
      "source": [
        "**거듭제곱**은 같은 수나 문자를 수차례 곱하는 것을 의미합니다.\n",
        "\n",
        "> $2\\times2\\times2\\times2$\n",
        "\n",
        "2를 4번 곱했습니다. 줄여서 쓰면 아래와 같습니다.\n",
        "\n",
        "> $2^4$\n",
        "\n",
        "아래 수식처럼 $x$와 $y$는 변수, $a$는 상수입니다.\n",
        "\n",
        "> $y = x^a$\n",
        "\n",
        "$x$, $y$, $a$는 소수일 수 있습니다. $a=0$이면 $y=1$입니다.\n",
        "\n",
        "> $x^0=1$\n",
        "\n",
        "거듭제곱과 관련하여 아래 관계를 성립합니다.\n",
        "\n",
        "> $x^ax^b=x^{ab}$\n",
        "\n",
        "> $(x^a)^b=x^{ab}$\n",
        "\n",
        "> $x^{-a}=\\frac{1}{x^a}$"
      ],
      "metadata": {
        "id": "ad9xcQFo5SJu"
      }
    },
    {
      "cell_type": "markdown",
      "source": [
        "## **1.2. 제곱근**"
      ],
      "metadata": {
        "id": "R9cW76-et6QQ"
      }
    },
    {
      "cell_type": "markdown",
      "source": [
        "$y=x^a$이고, $a=\\frac{1}{2}$일 때,\n",
        "\n",
        "양변에 $2$를 제곱하면 우변은 $x$입니다.\n",
        "\n",
        "> $y^2=(x^{\\frac{1}{2}})^2$\n",
        "\n",
        "> $=x$\n",
        "\n",
        "따라서 2를 제곱해서 $x$가 되는 $y$를 $x$의 **제곱근**이라고 합니다. 제곱이 되는 근원을 의미합니다.\n",
        "\n",
        "예컨대 $4$의 제곱근은 $\\pm2$입니다. $5$의 제곱근은 자연수가 아니므로 $\\pm\\sqrt{5}$입니다.\n",
        "\n",
        "양의 제곱근은 아래처럼 서술할 수 있습니다.\n",
        "\n",
        "> $y=\\sqrt{x}$"
      ],
      "metadata": {
        "id": "6NjL6O1MVXSL"
      }
    },
    {
      "cell_type": "markdown",
      "source": [
        "# **2. 다항식 함수**"
      ],
      "metadata": {
        "id": "bUaTLrRCtFzy"
      }
    },
    {
      "cell_type": "markdown",
      "source": [
        "## **2.1. 다항식**"
      ],
      "metadata": {
        "id": "c09AuU_YuHUK"
      }
    },
    {
      "cell_type": "markdown",
      "source": [
        "# **3. 삼각함수**"
      ],
      "metadata": {
        "id": "5nEylj8PtFxS"
      }
    },
    {
      "cell_type": "markdown",
      "source": [
        "## **3.1. 삼각함수**"
      ],
      "metadata": {
        "id": "EsmXmHQRuO5m"
      }
    },
    {
      "cell_type": "markdown",
      "source": [
        "# **4. 절댓값**"
      ],
      "metadata": {
        "id": "a0ub5fE2tFpc"
      }
    },
    {
      "cell_type": "markdown",
      "source": [
        "## **4.1. 절댓값**"
      ],
      "metadata": {
        "id": "zUqekGdvu2_7"
      }
    },
    {
      "cell_type": "markdown",
      "source": [
        "# **5. 총합 및 총곱**"
      ],
      "metadata": {
        "id": "280Z4pestFus"
      }
    },
    {
      "cell_type": "markdown",
      "source": [
        "## **5.1. 총합**"
      ],
      "metadata": {
        "id": "ME-4PW67uY6o"
      }
    },
    {
      "cell_type": "markdown",
      "source": [
        "## **5.2. 총곱**"
      ],
      "metadata": {
        "id": "WIvpsz8gucaR"
      }
    },
    {
      "cell_type": "markdown",
      "source": [
        "# **6. 난수**"
      ],
      "metadata": {
        "id": "VrblLHA-tFsM"
      }
    },
    {
      "cell_type": "markdown",
      "source": [
        "## **6.1. 난수**"
      ],
      "metadata": {
        "id": "IrXX8rW2uiCu"
      }
    },
    {
      "cell_type": "markdown",
      "source": [
        "## **6.1. 균일 난수**"
      ],
      "metadata": {
        "id": "9VXT7dxguh_1"
      }
    },
    {
      "cell_type": "markdown",
      "source": [
        "## **6.2. 편향 난수**"
      ],
      "metadata": {
        "id": "VLPMmPcDuh0e"
      }
    }
  ]
}