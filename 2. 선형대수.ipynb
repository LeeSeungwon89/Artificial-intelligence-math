{
  "nbformat": 4,
  "nbformat_minor": 0,
  "metadata": {
    "colab": {
      "name": "2. 선형대수.ipynb",
      "provenance": [],
      "toc_visible": true,
      "collapsed_sections": [],
      "authorship_tag": "ABX9TyPr/sMUqo3LHPLtLYas5Oom",
      "include_colab_link": true
    },
    "kernelspec": {
      "name": "python3",
      "display_name": "Python 3"
    },
    "language_info": {
      "name": "python"
    }
  },
  "cells": [
    {
      "cell_type": "markdown",
      "metadata": {
        "id": "view-in-github",
        "colab_type": "text"
      },
      "source": [
        "<a href=\"https://colab.research.google.com/github/LeeSeungwon89/Mathematics_for_Data_Analystics_Science/blob/main/2.%20%EC%84%A0%ED%98%95%EB%8C%80%EC%88%98.ipynb\" target=\"_parent\"><img src=\"https://colab.research.google.com/assets/colab-badge.svg\" alt=\"Open In Colab\"/></a>"
      ]
    },
    {
      "cell_type": "markdown",
      "source": [
        "**선형대수(linear algebra)**는 다차원 구조를 가진 수치의 나열을 다루는 수학 분야입니다. 인공지능에서 선형대수를 활용하면 많은 수치를 간결한 수식으로 처리하고 기술할 수 있습니다."
      ],
      "metadata": {
        "id": "JRfch_k-zDOF"
      }
    },
    {
      "cell_type": "code",
      "source": [
        "import numpy as np\n",
        "import matplotlib.pyplot as plt\n",
        "%matplotlib inline\n",
        "%config InlineBackend.figure_format = 'retina'\n",
        "mpl.rc('axes', unicode_minus=False)"
      ],
      "metadata": {
        "id": "kOJmfENx7kXX"
      },
      "execution_count": 64,
      "outputs": []
    },
    {
      "cell_type": "markdown",
      "source": [
        "# **1. 스칼라**"
      ],
      "metadata": {
        "id": "s-oEoEpyvV8L"
      }
    },
    {
      "cell_type": "markdown",
      "source": [
        "**스칼라(scalar)**는 보통 수치(1, 4.6, 1.5e6, -8 등)를 의미합니다. 행렬을 구성하는 원소 중에 최소 단위입니다."
      ],
      "metadata": {
        "id": "HLBZbrzQy736"
      }
    },
    {
      "cell_type": "markdown",
      "source": [
        "# **2. 벡터**"
      ],
      "metadata": {
        "id": "gtJqJt0Gvdsr"
      }
    },
    {
      "cell_type": "markdown",
      "source": [
        "**벡터(vector)**는 스칼라의 집합이며 스칼라를 직선 상에 나열한 것을 의미합니다. 스칼라는 크기만 가지고, 벡터는 크기와 방향을 가집니다. 벡터 표기는 아래와 같습니다.\n",
        "\n",
        "> $\\overrightarrow{a} = \\begin{pmatrix}\n",
        "3\\\\\n",
        "4\\\\\n",
        "5\n",
        "\\end{pmatrix}$\n",
        "\n",
        "> $\\overrightarrow{b} = \\begin{pmatrix}\n",
        "b_1\\\\\n",
        "b_2\\\\\n",
        "\\vdots\\\\\n",
        "b_m\n",
        "\\end{pmatrix}$\n",
        "\n",
        "> $\\overrightarrow{c} = (1.2, 3.21, -3.6, 0.1)$\n",
        "\n",
        "> $\\overrightarrow{d} = (d_1, d_2, \\cdots, d_n)$\n",
        "\n",
        "$\\overrightarrow{a}$와 $\\overrightarrow{b}$는 세로 벡터, $\\overrightarrow{c}$와 $\\overrightarrow{d}$는 가로 벡터입니다. 아울러 벡터의 원소를 변수로 나타낼 때 $\\overrightarrow{b}$와 $\\overrightarrow{d}$의 첨자(알파벳 아래 붙은 $n$) 수는 1개이며, 첨자의 개수에 따라 차원이 달라집니다. 벡터의 차원은 1차원입니다."
      ],
      "metadata": {
        "id": "mcl5RuC6z_8C"
      }
    },
    {
      "cell_type": "markdown",
      "source": [
        "## **2.1. 내적**"
      ],
      "metadata": {
        "id": "UqEMQUzgwSoL"
      }
    },
    {
      "cell_type": "markdown",
      "source": [
        "**내적(inner product)**은 벡터끼리 곱하는 방식 중 하나입니다. 아래에 두 벡터가 존재한다고 가정하겠습니다.\n",
        "\n",
        "> $\\overrightarrow{a} = (a_1, a_2, \\cdots, a_n)$\n",
        "\n",
        "> $\\overrightarrow{b} = (b_1, b_2, \\cdots, b_n)$\n",
        "\n",
        "두 벡터의 내적은 아래와 같습니다. 벡터의 내적을 구하려면 요소 개수는 같아야 합니다. \n",
        "\n",
        "> $\\begin{align}\n",
        "\\overrightarrow{a} \\cdot \\overrightarrow{b} &= (a_1, a_2, \\cdots, a_n) \\cdot (b_1, b_2, \\cdots, b_n) \\\\\n",
        "&= (a_1b_1 + a_2b_2 + \\cdots + a_nb_n) \\\\\n",
        "&= \\displaystyle\\sum_{k=1}^{n} a_kb_k\n",
        "\\end{align}$\n",
        "\n",
        "내적은 벡터간 **상관관계**를 구할 때 활용합니다. 상관관계는 **4. 확률 및 통계**에서 다룰 예정입니다."
      ],
      "metadata": {
        "id": "_8Rfga8f4KhK"
      }
    },
    {
      "cell_type": "markdown",
      "source": [
        "`np.dot()` 메서드로 내적을 구할 수 있습니다."
      ],
      "metadata": {
        "id": "TNCMam007H-T"
      }
    },
    {
      "cell_type": "code",
      "source": [
        "a = np.array([1, 2, 3, 4, 5])\n",
        "b = np.array([5, 4, 3, 2, 1])\n",
        "\n",
        "np.dot(a, b)"
      ],
      "metadata": {
        "colab": {
          "base_uri": "https://localhost:8080/"
        },
        "id": "75Ipez4O7PQM",
        "outputId": "a04aaaa7-a704-438e-a339-8045f0f7bee1"
      },
      "execution_count": null,
      "outputs": [
        {
          "output_type": "execute_result",
          "data": {
            "text/plain": [
              "35"
            ]
          },
          "metadata": {},
          "execution_count": 62
        }
      ]
    },
    {
      "cell_type": "markdown",
      "source": [
        "`sum()` 메서드로도 내적을 구할 수 있습니다."
      ],
      "metadata": {
        "id": "t2j8bsH37wZH"
      }
    },
    {
      "cell_type": "code",
      "source": [
        "a = np.array([1, 2, 3, 4, 5])\n",
        "b = np.array([5, 4, 3, 2, 1])\n",
        "\n",
        "sum(a * b)"
      ],
      "metadata": {
        "colab": {
          "base_uri": "https://localhost:8080/"
        },
        "id": "HAcamoNk7s_1",
        "outputId": "d2ce95de-f6f7-4c23-a469-01785afad5dd"
      },
      "execution_count": null,
      "outputs": [
        {
          "output_type": "execute_result",
          "data": {
            "text/plain": [
              "35"
            ]
          },
          "metadata": {},
          "execution_count": 63
        }
      ]
    },
    {
      "cell_type": "markdown",
      "source": [
        "## **2.2. 놈**"
      ],
      "metadata": {
        "id": "Yr-7UYoHwV9y"
      }
    },
    {
      "cell_type": "markdown",
      "source": [
        "**놈(norm)**은 벡터의 크기를 나타내는 양입니다. 인공지능에서는 $L^2$놈과 $L^1$놈을 자주 사용하여 **정칙화(regularization)**를 목적으로 삼습니다. 정칙화는 모델이 필요 이상으로 학습되지 않도록 파라미터 조정을 통해 방지하는 조치를 의미합니다.\n",
        "\n",
        "먼저 $L^2$ 놈은 $||\\overrightarrow{x}||_2$로 나타냅니다. 벡터의 각 요소를 제곱하고 합해서 제곱근을 구합니다.\n",
        "\n",
        "> $\\begin{align}\n",
        "||\\overrightarrow{x}||_2 &= \\sqrt{x^2_1 + x^2_2 + \\cdots + x^2_n} \\\\\n",
        "&= \\sqrt{\\displaystyle\\sum_{k=1}^{n} x^2_k}\n",
        "\\end{align}$\n",
        "\n",
        "다음으로 $L^1$ 놈은 $||\\overrightarrow{x}||_1$로 나타냅니다. 벡터의 각 요소의 절댓값을 더합니다.\n",
        "\n",
        "> $\\begin{align}\n",
        "||\\overrightarrow{x}||_1 &= |x_1| + |x_2| + \\cdots + |x_n| \\\\\n",
        "&= \\displaystyle\\sum_{k=1}^n |x_k|\n",
        "\\end{align}$\n",
        "\n",
        "놈을 더 일반화한 $L^p$ 놈도 있습니다.\n",
        "\n",
        "> $\\begin{align}\n",
        "||\\overrightarrow{x}||_p &= |x^p_1| + |x^p_2| + \\cdots + |x^p_n| \\\\\n",
        "&= (\\displaystyle\\sum_{k=1}^n x^p_k)^{\\frac{1}{p}}\n",
        "\\end{align}$"
      ],
      "metadata": {
        "id": "Rs94DnFl80zv"
      }
    },
    {
      "cell_type": "markdown",
      "source": [
        "`np.linalg.norm()` 메서드로 놈을 구할 수 있습니다. 기본값은 $L^2$ 놈입니다."
      ],
      "metadata": {
        "id": "aN2ivnTIBAeD"
      }
    },
    {
      "cell_type": "code",
      "source": [
        "a = ([1, 3, 2, 6, -9])\n",
        "\n",
        "np.linalg.norm(a)"
      ],
      "metadata": {
        "colab": {
          "base_uri": "https://localhost:8080/"
        },
        "id": "fvdmIe5uBGkh",
        "outputId": "81b6e4ce-277e-436e-ce9c-c3cc441d9e68"
      },
      "execution_count": null,
      "outputs": [
        {
          "output_type": "execute_result",
          "data": {
            "text/plain": [
              "11.445523142259598"
            ]
          },
          "metadata": {},
          "execution_count": 64
        }
      ]
    },
    {
      "cell_type": "markdown",
      "source": [
        "$L^1$ 놈을 적용하겠습니다. $L^2$ 놈과 다른 값이 도출됩니다."
      ],
      "metadata": {
        "id": "gvdZRATRBjrs"
      }
    },
    {
      "cell_type": "code",
      "source": [
        "a = ([1, 3, 2, 6, -9])\n",
        "\n",
        "np.linalg.norm(a, 1)"
      ],
      "metadata": {
        "colab": {
          "base_uri": "https://localhost:8080/"
        },
        "id": "qYRCUD_lBYJX",
        "outputId": "889e350b-b6eb-49b5-9523-8ac2f8595f89"
      },
      "execution_count": null,
      "outputs": [
        {
          "output_type": "execute_result",
          "data": {
            "text/plain": [
              "21.0"
            ]
          },
          "metadata": {},
          "execution_count": 65
        }
      ]
    },
    {
      "cell_type": "markdown",
      "source": [
        "# **3. 행렬**"
      ],
      "metadata": {
        "id": "q0vkHuV6vdlT"
      }
    },
    {
      "cell_type": "markdown",
      "source": [
        "**행렬(matrix)**은 벡터의 집합입니다. 행렬을 구성하는 스칼라 값은 **원소(element)**라고 부릅니다."
      ],
      "metadata": {
        "id": "3fKd5frKMlD8"
      }
    },
    {
      "cell_type": "markdown",
      "source": [
        "## **3.1. 행렬 곱**"
      ],
      "metadata": {
        "id": "bWqxi9qKwbco"
      }
    },
    {
      "cell_type": "markdown",
      "source": [
        "행렬 $A$와 $B$가 있다고 가정하겠습니다.\n",
        "\n",
        "> $A =\n",
        "\\begin{pmatrix}\n",
        "a_{11} & a_{12} & a_{13} \\\\\n",
        "a_{21} & a_{22} & a_{23} \\\\\n",
        "\\end{pmatrix}$\n",
        "\n",
        "> $B =\n",
        "\\begin{pmatrix}\n",
        "b_{11} & b_{12} \\\\\n",
        "b_{21} & b_{22} \\\\\n",
        "b_{31} & b_{32}\n",
        "\\end{pmatrix}$\n",
        "\n",
        "이 두 행렬을 **행렬곱(matrix multiplication)**하면 아래 형식이 됩니다.\n",
        "\n",
        "> $\\begin{align}\n",
        "AB &=\n",
        "\\begin{pmatrix}\n",
        "a_{11} & a_{12} & a_{13} \\\\\n",
        "a_{21} & a_{22} & a_{23} \\\\\n",
        "\\end{pmatrix}\n",
        "\\begin{pmatrix}\n",
        "b_{11} & b_{12} \\\\\n",
        "b_{21} & b_{22} \\\\\n",
        "b_{31} & b_{32}\n",
        "\\end{pmatrix} \\\\\n",
        "&= \\begin{pmatrix}\n",
        "a_{11}b_{11} + a_{12}b_{21} + a_{13}b_{31} & a_{11}b_{12} + a_{12}b_{22} + a_{13}b_{32} \\\\\n",
        "a_{21}b_{11} + a_{22}b_{21} + a_{23}b_{31} & a_{21}b_{12} + a_{22}b_{22} + a_{23}b_{32} \\\\\n",
        "\\end{pmatrix} \\\\\n",
        "&= \\begin{pmatrix}\n",
        "\\displaystyle\\sum_{k=1}^3 a_{1k}b_{k1} & \\displaystyle\\sum_{k=1}^3 a_{1k}b_{k2} \\\\\n",
        "\\displaystyle\\sum_{k=1}^3 a_{2k}b_{k1} & \\displaystyle\\sum_{k=1}^3 a_{2k}b_{k2}\n",
        "\\end{pmatrix}\n",
        "\\end{align}$\n",
        "\n",
        "쉽게 말하면 $A$의 1행과 $B$의 1열 및 2열을 각각 곱해서 1행의 두 원소로 삼습니다. $A$의 2행과 $B$의 1열 및 2열을 각각 곱해서 2행의 두 원소로 삼습니다. 참고로 행렬곱 계산 조건은 앞 행렬의 열수와 뒷 행렬의 행수가 같아야 합니다. 예컨대 앞 행렬의 열수가 2라면 뒷 행렬의 행수가 2여야 합니다.\n",
        "\n",
        "행렬곱을 일반화하면 아래와 같습니다.\n",
        "\n",
        "> $\\begin{align}\n",
        "AB &=\n",
        "\\begin{pmatrix}\n",
        "a_{11} & a_{12} & \\cdots & a_{1m} \\\\\n",
        "a_{21} & a_{22} & \\cdots & a_{2m} \\\\\n",
        "\\vdots & \\vdots & \\ddots & \\vdots  \\\\\n",
        "a_{l1} & a_{l2} & \\cdots & a_{lm}\n",
        "\\end{pmatrix}\n",
        "\\begin{pmatrix}\n",
        "b_{11} & b_{12} & \\cdots & b_{1n} \\\\\n",
        "b_{21} & b_{22} & \\cdots & b_{2n} \\\\\n",
        "\\vdots & \\vdots & \\ddots & \\vdots  \\\\\n",
        "b_{m1} & b_{m2} & \\cdots & b_{mn}\n",
        "\\end{pmatrix} \\\\\n",
        "&= \\begin{pmatrix}\n",
        "\\displaystyle\\sum_{k=1}^m a_{1k}b_{k1} & \\displaystyle\\sum_{k=1}^m a_{1k}b_{k2} & \\cdots & \\displaystyle\\sum_{k=1}^m a_{1k}b_{kn} \\\\\n",
        "\\displaystyle\\sum_{k=1}^m a_{2k}b_{k1} & \\displaystyle\\sum_{k=1}^m a_{2k}b_{k2} & \\cdots & \\displaystyle\\sum_{k=1}^m a_{2k}b_{kn} \\\\\n",
        "\\vdots & \\vdots & \\ddots & \\vdots  \\\\\n",
        "\\displaystyle\\sum_{k=1}^m a_{lk}b_{k1} & \\displaystyle\\sum_{k=1}^m a_{lk}b_{k2} & \\cdots & \\displaystyle\\sum_{k=1}^m a_{lk}b_{kn}\n",
        "\\end{pmatrix}\n",
        "\\end{align}$"
      ],
      "metadata": {
        "id": "uem83xdkO0Jo"
      }
    },
    {
      "cell_type": "markdown",
      "source": [
        "`np.dot()` 메서드를 사용하여 행렬곱을 하겠습니다."
      ],
      "metadata": {
        "id": "e9_EY6hRbx8p"
      }
    },
    {
      "cell_type": "code",
      "source": [
        "a = np.array([[0, 1, 2, 3],\n",
        "              [4, 5, 6, 7],\n",
        "              [8, 9, 10, 11]])\n",
        "b = np.array([[1, 2], \n",
        "              [3, 4],\n",
        "              [5, 6],\n",
        "              [7, 8]])\n",
        "np.dot(a, b)"
      ],
      "metadata": {
        "colab": {
          "base_uri": "https://localhost:8080/"
        },
        "id": "g5Qhg52Cb18Y",
        "outputId": "ab7b1dfd-035b-4984-8532-acf9f11a2d62"
      },
      "execution_count": null,
      "outputs": [
        {
          "output_type": "execute_result",
          "data": {
            "text/plain": [
              "array([[ 34,  40],\n",
              "       [ 98, 120],\n",
              "       [162, 200]])"
            ]
          },
          "metadata": {},
          "execution_count": 66
        }
      ]
    },
    {
      "cell_type": "markdown",
      "source": [
        "## **3.2. 원소별 곱**"
      ],
      "metadata": {
        "id": "jpRZ-GoSwfKE"
      }
    },
    {
      "cell_type": "markdown",
      "source": [
        "행렬의 원소별 곱(**아다마르 곱**)은 같은 위치의 각 원소를 곱하는 것입니다.\n",
        "\n",
        "행렬 $A$와 $B$가 있다고 가정하겠습니다.\n",
        "\n",
        "> $A =\n",
        "\\begin{pmatrix}\n",
        "a_{11} & a_{12} & \\cdots & a_{1n} \\\\\n",
        "a_{21} & a_{22} & \\cdots & a_{2n} \\\\\n",
        "\\vdots & \\vdots & \\ddots & \\vdots  \\\\\n",
        "a_{m1} & a_{m2} & \\cdots & a_{mn}\n",
        "\\end{pmatrix}$\n",
        "\n",
        "> $B = \\begin{pmatrix}\n",
        "b_{11} & b_{12} & \\cdots & b_{1n} \\\\\n",
        "b_{21} & b_{22} & \\cdots & b_{2n} \\\\\n",
        "\\vdots & \\vdots & \\ddots & \\vdots  \\\\\n",
        "b_{m1} & b_{m2} & \\cdots & b_{mn}\n",
        "\\end{pmatrix}$\n",
        "\n",
        "계산 방식은 아래와 같습니다.\n",
        "\n",
        "> $A \\circ B = \\begin{pmatrix}\n",
        "a_{11}b_{11} & a_{12}b_{12} & \\cdots & a_{1n}b_{1n} \\\\\n",
        "a_{21}b_{21} & a_{22}b_{22} & \\cdots & a_{2n}b_{2n} \\\\\n",
        "\\vdots & \\vdots & \\ddots & \\vdots  \\\\\n",
        "a_{m1}b_{m1} & a_{m2}b_{m2} & \\cdots & a_{mn}b_{mn}\n",
        "\\end{pmatrix}$\n",
        "\n",
        "원소별 곱은 메서드가 아닌 `*` 연산자로 계산합니다. 코드는 생략합니다."
      ],
      "metadata": {
        "id": "1cSOt9AUrB0E"
      }
    },
    {
      "cell_type": "markdown",
      "source": [
        "## **3.3. 전치**"
      ],
      "metadata": {
        "id": "aUP6reN0woju"
      }
    },
    {
      "cell_type": "markdown",
      "source": [
        "**전치(transpose)**는 행렬의 행과 열을 바꾸는 작업입니다.\n",
        "\n",
        "> $A =\n",
        "\\begin{pmatrix}\n",
        "1 & 2 & 3 \\\\\n",
        "4 & 5 & 6 \\\\\n",
        "\\end{pmatrix}$\n",
        "\n",
        "> $A^T =\n",
        "\\begin{pmatrix}\n",
        "1 & 4 \\\\\n",
        "2 & 5 \\\\\n",
        "3 & 6\n",
        "\\end{pmatrix}$\n",
        "\n",
        "아래 두 행렬로는 행렬곱을 할 수 없습니다. 행렬 $A$의 열 개수와 행렬 $B$의 행 개수가 다르기 때문입니다.\n",
        "\n",
        "> $A =\n",
        "\\begin{pmatrix}\n",
        "1 & 2 & 3 \\\\\n",
        "4 & 5 & 6 \\\\\n",
        "\\end{pmatrix}$\n",
        "\n",
        "> $B =\n",
        "\\begin{pmatrix}\n",
        "6 & 5 & 4 \\\\\n",
        "3 & 2 & 1 \\\\\n",
        "\\end{pmatrix}$\n",
        "\n",
        "행렬곱을 하기 위한 조건에 부합하지 않더라도 아래처럼 행렬을 전치하여 행렬곱을 가능하게 하는 경우가 있습니다. \n",
        "\n",
        "> $B^T =\n",
        "\\begin{pmatrix}\n",
        "6 & 3 \\\\\n",
        "5 & 2 \\\\\n",
        "4 & 1\n",
        "\\end{pmatrix}$\n",
        "\n",
        "행렬 $A$의 열 개수와 행렬 $B^T$의 행 개수가 같습니다. 행렬곱이 가능합니다.\n",
        "\n",
        "참고로 코드 상에서 임의의 행렬인 a을 전치하려면 `a.T` 형식을 취합니다. 코드는 생략합니다."
      ],
      "metadata": {
        "id": "ugQ5NTGc1ft5"
      }
    },
    {
      "cell_type": "markdown",
      "source": [
        "## **3.4. 단위행렬**"
      ],
      "metadata": {
        "id": "PZEiEpfgwqC4"
      }
    },
    {
      "cell_type": "markdown",
      "source": [
        "**단위행렬(identity matrix)**은 행과 열의 수가 같고, 좌측 상단(첫 번째 위치)에서 우측 하단(마지막 위치)까지 1로 채워지고 나머지 원소는 0으로 채워진 행렬입니다. \n",
        "\n",
        "> $E =\n",
        "\\begin{pmatrix}\n",
        "1 & 0 \\\\\n",
        "0 & 1 \\\\\n",
        "\\end{pmatrix}$\n",
        "\n",
        "> $E =\n",
        "\\begin{pmatrix}\n",
        "1 & 0 & 0\\\\\n",
        "0 & 1 & 0\\\\\n",
        "0 & 0 & 1\n",
        "\\end{pmatrix}$\n",
        "\n",
        "> $E = \n",
        "\\begin{pmatrix}\n",
        " 1 & 0 & \\cdots & 0 \\\\\n",
        " 0 & 1 & \\cdots & 0 \\\\\n",
        "\\vdots & \\vdots & \\ddots & \\vdots  \\\\\n",
        " 0 & 0 & \\cdots & 1\n",
        "\\end{pmatrix}$\n",
        "\n",
        "행렬의 앞이나 뒤에서 단위행렬과 행렬곱을 해도 행렬의 형태를 그대로 유지합니다.\n",
        "\n",
        "> $E =\n",
        "\\begin{pmatrix}\n",
        "1 & 0 \\\\\n",
        "0 & 1 \\\\\n",
        "\\end{pmatrix}$\n",
        "\n",
        "> $A =\n",
        "\\begin{pmatrix}\n",
        "a & b \\\\\n",
        "c & d \\\\\n",
        "\\end{pmatrix}$\n",
        "\n",
        "> $EA =\n",
        "\\begin{pmatrix}\n",
        "1 & 0 \\\\\n",
        "0 & 1 \\\\\n",
        "\\end{pmatrix}\n",
        "\\begin{pmatrix}\n",
        "a & b \\\\\n",
        "c & d \\\\\n",
        "\\end{pmatrix}=\n",
        "\\begin{pmatrix}\n",
        "a & b \\\\\n",
        "c & d \\\\\n",
        "\\end{pmatrix}$\n",
        "\n",
        "> $AE =\n",
        "\\begin{pmatrix}\n",
        "a & b \\\\\n",
        "c & d \\\\\n",
        "\\end{pmatrix}\n",
        "\\begin{pmatrix}\n",
        "1 & 0 \\\\\n",
        "0 & 1 \\\\\n",
        "\\end{pmatrix}=\n",
        "\\begin{pmatrix}\n",
        "a & b \\\\\n",
        "c & d \\\\\n",
        "\\end{pmatrix}$"
      ],
      "metadata": {
        "id": "AOO8zGmd5gc5"
      }
    },
    {
      "cell_type": "markdown",
      "source": [
        "`np.eye()` 메서드를 사용하여 단위행렬을 만들 수 있습니다."
      ],
      "metadata": {
        "id": "aoLtjorW8Fi_"
      }
    },
    {
      "cell_type": "code",
      "source": [
        "print(np.eye(2))\n",
        "print()\n",
        "print(np.eye(3))\n",
        "print()\n",
        "print(np.eye(100))"
      ],
      "metadata": {
        "colab": {
          "base_uri": "https://localhost:8080/"
        },
        "id": "2S8MyXvH9f3Z",
        "outputId": "709ce9aa-5fb5-4d6c-a1cb-dbaf9b22638d"
      },
      "execution_count": null,
      "outputs": [
        {
          "output_type": "stream",
          "name": "stdout",
          "text": [
            "[[1. 0.]\n",
            " [0. 1.]]\n",
            "\n",
            "[[1. 0. 0.]\n",
            " [0. 1. 0.]\n",
            " [0. 0. 1.]]\n",
            "\n",
            "[[1. 0. 0. ... 0. 0. 0.]\n",
            " [0. 1. 0. ... 0. 0. 0.]\n",
            " [0. 0. 1. ... 0. 0. 0.]\n",
            " ...\n",
            " [0. 0. 0. ... 1. 0. 0.]\n",
            " [0. 0. 0. ... 0. 1. 0.]\n",
            " [0. 0. 0. ... 0. 0. 1.]]\n"
          ]
        }
      ]
    },
    {
      "cell_type": "markdown",
      "source": [
        "## **3.5. 역행렬**"
      ],
      "metadata": {
        "id": "BtOnPknrww2v"
      }
    },
    {
      "cell_type": "markdown",
      "source": [
        "**역행렬(inverse matrix)**은 행렬에 곱했을 때 단위행렬로 만드는 행렬을 의미합니다.\n",
        "\n",
        "> $A^{-1}A = AA^{-1} = E$\n",
        "\n",
        "역행렬 $A^{-1}$을 $A$ 행렬의 앞과 뒤 무관하게 곱해도 단위행렬이 됩니다. 다만 행렬 $A$는 행과 열의 개수가 같은 반드시 **정방행렬(=정사각행렬, square matrix)**이어야 합니다.\n",
        "\n",
        "물론 역행렬이 존재하지 않는 행렬도 있습니다. **행렬식(determinant)**을 통해 역행렬의 존재 여부를 파악할 수 있습니다. 행렬 $A$가 있다고 가정하겠습니다.\n",
        "\n",
        "> $A =\n",
        "\\begin{pmatrix}\n",
        "a & b \\\\\n",
        "c & d \\\\\n",
        "\\end{pmatrix}$\n",
        "\n",
        "행렬식은 $|A|$ 또는 $det A$ 표현합니다. 공식은 아래와 같습니다.\n",
        "\n",
        "> $|A| = det A = ad - bc$\n",
        "\n",
        "이 공식에서 $ad - bc = 0$이면 역행렬은 존재하지 않으며, $0$이 아닌 수라면 역행렬은 존재합니다.\n",
        "\n",
        "역행렬이 존재한다면 아래 공식으로 역행렬을 구할 수 있습니다.\n",
        "\n",
        "> $A^{-1} = \\frac{1}{ad-bc}\\begin{pmatrix}\n",
        " d & -b\\\\\n",
        " -c & a\n",
        "\\end{pmatrix}$"
      ],
      "metadata": {
        "id": "Jq2b0RFc_UzX"
      }
    },
    {
      "cell_type": "markdown",
      "source": [
        "코드로 위 수식을 적용하겠습니다. 먼저 `np.linalg.det()` 메서드로 행렬식을 구합니다."
      ],
      "metadata": {
        "id": "ubZ_M7jdBrva"
      }
    },
    {
      "cell_type": "code",
      "source": [
        "a = np.array([[1, 2],\n",
        "              [3, 4]])\n",
        "np.linalg.det(a)"
      ],
      "metadata": {
        "colab": {
          "base_uri": "https://localhost:8080/"
        },
        "id": "AX2-Psw-FOQd",
        "outputId": "31dcf8cf-eaa6-4b83-f871-2664b048ee39"
      },
      "execution_count": null,
      "outputs": [
        {
          "output_type": "execute_result",
          "data": {
            "text/plain": [
              "-2.0000000000000004"
            ]
          },
          "metadata": {},
          "execution_count": 68
        }
      ]
    },
    {
      "cell_type": "markdown",
      "source": [
        "행렬 `a`는 0이 아닌 수이므로 역행렬이 존재합니다. 다른 행렬도 적용하겠습니다."
      ],
      "metadata": {
        "id": "OKV-yjb-Fiph"
      }
    },
    {
      "cell_type": "code",
      "source": [
        "b = np.array([[0, 0],\n",
        "              [3, 6]])\n",
        "np.linalg.det(b)"
      ],
      "metadata": {
        "colab": {
          "base_uri": "https://localhost:8080/"
        },
        "id": "MLQMkFjnFp8-",
        "outputId": "aae0b354-ab59-4a58-9979-6ca15a8896f6"
      },
      "execution_count": null,
      "outputs": [
        {
          "output_type": "execute_result",
          "data": {
            "text/plain": [
              "0.0"
            ]
          },
          "metadata": {},
          "execution_count": 69
        }
      ]
    },
    {
      "cell_type": "markdown",
      "source": [
        "행렬 `b`는 역행렬이 존재하지 않습니다.\n",
        "\n",
        "`np.linalg.inv()` 메서드로 행렬 `a`의 역행렬을 구하겠습니다."
      ],
      "metadata": {
        "id": "A52J-PcvFO5U"
      }
    },
    {
      "cell_type": "code",
      "source": [
        "a = np.array([[1, 2],\n",
        "              [3, 4]])\n",
        "linalg_a = np.linalg.inv(a)\n",
        "linalg_a"
      ],
      "metadata": {
        "colab": {
          "base_uri": "https://localhost:8080/"
        },
        "id": "qa-BqXJ9B6ay",
        "outputId": "31c85ba4-58e9-42a2-fa86-0f333e975504"
      },
      "execution_count": null,
      "outputs": [
        {
          "output_type": "execute_result",
          "data": {
            "text/plain": [
              "array([[-2. ,  1. ],\n",
              "       [ 1.5, -0.5]])"
            ]
          },
          "metadata": {},
          "execution_count": 70
        }
      ]
    },
    {
      "cell_type": "markdown",
      "source": [
        "역행렬을 행렬 `a`와 행렬곱을 하겠습니다."
      ],
      "metadata": {
        "id": "HZ-QC0FuCMvF"
      }
    },
    {
      "cell_type": "code",
      "source": [
        "print(np.dot(linalg_a, a))\n",
        "print()\n",
        "print(np.dot(a, linalg_a))"
      ],
      "metadata": {
        "colab": {
          "base_uri": "https://localhost:8080/"
        },
        "id": "dYrsGbq_CGbf",
        "outputId": "42435e6f-a107-426b-8954-5d3603fb5c59"
      },
      "execution_count": null,
      "outputs": [
        {
          "output_type": "stream",
          "name": "stdout",
          "text": [
            "[[1.00000000e+00 0.00000000e+00]\n",
            " [1.11022302e-16 1.00000000e+00]]\n",
            "\n",
            "[[1.0000000e+00 0.0000000e+00]\n",
            " [8.8817842e-16 1.0000000e+00]]\n"
          ]
        }
      ]
    },
    {
      "cell_type": "markdown",
      "source": [
        "앞 뒤 무관하게 행렬곱을 해도 단위행렬이 됩니다."
      ],
      "metadata": {
        "id": "DrG_gN89GIQz"
      }
    },
    {
      "cell_type": "markdown",
      "source": [
        "# **4. 텐서**"
      ],
      "metadata": {
        "id": "VT8mYw0Ovdi0"
      }
    },
    {
      "cell_type": "markdown",
      "source": [
        "n차원인 행렬을 **텐서(tensor)**라고 합니다. 스칼라를 여러 차원으로 나열한 것이며 스칼라와 벡터, 행렬을 포함합니다. 스칼라는 0차원 텐서, 벡터는 1차원 텐서, 행렬은 2차원 텐서, 그 이상은 n차원 텐서라고 설명할 수 있습니다. 첨자 개수에 따라 차원이 정해진다고 생각하면 간편합니다."
      ],
      "metadata": {
        "id": "MEY5WZhYM2VE"
      }
    },
    {
      "cell_type": "markdown",
      "source": [
        "코드로 3차원 텐서를 만들겠습니다."
      ],
      "metadata": {
        "id": "6mZgPHN2OBRo"
      }
    },
    {
      "cell_type": "code",
      "source": [
        "a = np.array([[[0, 1, 2],\n",
        "               [4, 5, 6],\n",
        "               [7, 8, 9]],\n",
        "              [[9, 8, 7],\n",
        "               [6, 5, 4],\n",
        "               [3, 2, 1]]])\n",
        "print(a)\n",
        "print()\n",
        "print(np.shape(a))"
      ],
      "metadata": {
        "colab": {
          "base_uri": "https://localhost:8080/"
        },
        "id": "zYtI_9CFOEFC",
        "outputId": "aa15105a-b65b-4022-9c6f-0c76adb8a4de"
      },
      "execution_count": null,
      "outputs": [
        {
          "output_type": "stream",
          "name": "stdout",
          "text": [
            "[[[0 1 2]\n",
            "  [4 5 6]\n",
            "  [7 8 9]]\n",
            "\n",
            " [[9 8 7]\n",
            "  [6 5 4]\n",
            "  [3 2 1]]]\n",
            "\n",
            "(2, 3, 3)\n"
          ]
        }
      ]
    },
    {
      "cell_type": "markdown",
      "source": [
        "행렬 2개가 함께 들어있습니다. 첨자는 3개로 3차원을 의미합니다."
      ],
      "metadata": {
        "id": "F1OsoTg5Oivd"
      }
    },
    {
      "cell_type": "markdown",
      "source": [
        "# **5. 선형변환**"
      ],
      "metadata": {
        "id": "5iO-qqQZvdgl"
      }
    },
    {
      "cell_type": "markdown",
      "source": [
        "선형변환(linear transformation)은 두 벡터의 공간 사이의 함수를 의미합니다. 예컨대 벡터를 확대하거나 축소하고 회전시키거나 반사하는 작업 모두 선형 변환입니다."
      ],
      "metadata": {
        "id": "xoMdSpQKXJxN"
      }
    },
    {
      "cell_type": "markdown",
      "source": [
        "## **5.1. 선형변환**"
      ],
      "metadata": {
        "id": "NeEmwkeTxI3h"
      }
    },
    {
      "cell_type": "markdown",
      "source": [
        "벡터 $\\overrightarrow{a}$와 행렬 $A$가 있다고 가정하겠습니다.\n",
        "\n",
        "> $\\overrightarrow{a} =\n",
        "\\begin{pmatrix}\n",
        "1\\\\\n",
        "2\n",
        "\\end{pmatrix}$\n",
        "\n",
        "> $A =\n",
        "\\begin{pmatrix}\n",
        "1 & 2 \\\\\n",
        "3 & 4\n",
        "\\end{pmatrix}$"
      ],
      "metadata": {
        "id": "gX-qF0pIsQH6"
      }
    },
    {
      "cell_type": "markdown",
      "source": [
        "벡터 $\\overrightarrow{a}$를 행렬 $A$와 행렬곱 하겠습니다."
      ],
      "metadata": {
        "id": "Uo8uTfPG0QI5"
      }
    },
    {
      "cell_type": "code",
      "source": [
        "A = np.array([[1, 2],\n",
        "              [3, 4]])\n",
        "a = np.array([1, 2])\n",
        "np.dot(A, a)"
      ],
      "metadata": {
        "colab": {
          "base_uri": "https://localhost:8080/"
        },
        "id": "N3fuW3-UuGMP",
        "outputId": "fc3d6e02-0360-496e-899e-35f4621c1dc5"
      },
      "execution_count": null,
      "outputs": [
        {
          "output_type": "execute_result",
          "data": {
            "text/plain": [
              "array([ 5, 11])"
            ]
          },
          "metadata": {},
          "execution_count": 73
        }
      ]
    },
    {
      "cell_type": "markdown",
      "source": [
        "도출된 값은 벡터 $\\overrightarrow{b}$라고 가정합니다. 행렬 $A$에 의해 벡터 $\\overrightarrow{a}$가 벡터 $\\overrightarrow{b}$로 **선형변환** 된 것입니다.\n",
        "\n",
        "$\\overrightarrow{b} = A\\overrightarrow{a} = \\begin{pmatrix}\n",
        "1 & 2 \\\\\n",
        "3 & 4\n",
        "\\end{pmatrix}\n",
        "\\begin{pmatrix}\n",
        "1\\\\\n",
        "2\n",
        "\\end{pmatrix} = \\begin{pmatrix}\n",
        "5\\\\\n",
        "11\n",
        "\\end{pmatrix}$\n",
        "\n",
        "뉴럴 네트워크에서는 선형변환을 활용하여 신경 세포에 대한 여러 입력에 가중치를 곱한 총합을 계산합니다."
      ],
      "metadata": {
        "id": "c-EdXl4IwyrO"
      }
    },
    {
      "cell_type": "markdown",
      "source": [
        "`plt.quiver()` 메서드를 활용하여 벡터 $\\overrightarrow{a}$와 벡터 $\\overrightarrow{b}$를 화살표로 그리겠습니다."
      ],
      "metadata": {
        "id": "pr48btkk0Rfw"
      }
    },
    {
      "cell_type": "code",
      "source": [
        "plt.style.use('ggplot')\n",
        "plt.figure(figsize=(5, 3))\n",
        "\n",
        "# 시작점을 설정합니다.\n",
        "start = np.array([0, 0])\n",
        "# 벡터 b를 인스턴스화합니다.\n",
        "b = np.array([5, 11]) \n",
        "\n",
        "# `start[0]`과 `start[1]`은 시작점 x와 y입니다.\n",
        "# `vector[0]`과 `vector[1]`은 화살표의 x성분과 y성분입니다.\n",
        "# `angles`는 화살표 각도의 결정 방법, `scale_units`는 스케일 단위, `scale`은 스케일입니다.\n",
        "def test_quiver(start, vector, color):\n",
        "    plt.quiver(start[0], start[1], vector[0], vector[1], angles='xy',\n",
        "               scale_units='xy', scale=1, color=color)\n",
        "\n",
        "test_quiver(start, a, color='k')\n",
        "test_quiver(start, b, color='r')\n",
        "\n",
        "plt.xlim([-1, 6])\n",
        "plt.ylim([-5, 14])\n",
        "plt.xlabel('x')\n",
        "plt.ylabel('y')\n",
        "\n",
        "plt.show()"
      ],
      "metadata": {
        "colab": {
          "base_uri": "https://localhost:8080/",
          "height": 226
        },
        "id": "vSk5Fn1Z0Z8q",
        "outputId": "346481e9-54c7-4d57-f7f1-c9d965d01f8c"
      },
      "execution_count": null,
      "outputs": [
        {
          "output_type": "display_data",
          "data": {
            "image/png": "[encoded data removed]",
            "text/plain": [
              "<Figure size 360x216 with 1 Axes>"
            ]
          },
          "metadata": {
            "image/png": {
              "width": 341,
              "height": 209
            }
          }
        }
      ]
    },
    {
      "cell_type": "markdown",
      "source": [
        "## **5.2. 표준기저**"
      ],
      "metadata": {
        "id": "rf_sI61gxKil"
      }
    },
    {
      "cell_type": "markdown",
      "source": [
        "벡터 $\\overrightarrow{a}$가 있다고 가정하겠습니다.\n",
        "\n",
        "> $\\overrightarrow{a} =\n",
        "\\begin{pmatrix}\n",
        "3\\\\\n",
        "4\n",
        "\\end{pmatrix}$\n",
        "\n",
        "벡터 $\\overrightarrow{a}$는 아래 식과 같습니다. 여기서 두 벡터가 발생합니다.\n",
        "\n",
        "> $\\overrightarrow{a} =\n",
        "\\begin{pmatrix}\n",
        "3\\\\\n",
        "4\n",
        "\\end{pmatrix} =\n",
        "3 \\begin{pmatrix}\n",
        "1\\\\\n",
        "0\n",
        "\\end{pmatrix} + \n",
        "4 \\begin{pmatrix}\n",
        "0\\\\\n",
        "1\n",
        "\\end{pmatrix}$\n",
        "\n",
        "> $\\overrightarrow{e}_x = \n",
        "\\begin{pmatrix}\n",
        "1\\\\\n",
        "0\n",
        "\\end{pmatrix}$\n",
        "\n",
        "> $\\overrightarrow{e}_y = \n",
        "\\begin{pmatrix}\n",
        "0\\\\\n",
        "1\n",
        "\\end{pmatrix}$\n",
        "\n",
        "이 벡터들을 **표준기저(natural basis)**라고 부릅니다. 계산식을 표기화하면 아래와 같습니다.\n",
        "\n",
        "> $3\\overrightarrow{e}_x + 2\\overrightarrow{e}_y$"
      ],
      "metadata": {
        "id": "7hMXtJ5c4y5h"
      }
    },
    {
      "cell_type": "markdown",
      "source": [
        "위 벡터와 표준기저를 그리고 설명을 이어가겠습니다. 위에서 생성한 `test_quiver` 메서드를 사용하여 그리겠습니다."
      ],
      "metadata": {
        "id": "uyC1W4Rr7oL-"
      }
    },
    {
      "cell_type": "code",
      "source": [
        "a = np.array([3, 4])\n",
        "e_x = np.array([1, 0])\n",
        "e_y = np.array([0, 1])\n",
        "\n",
        "plt.figure(figsize=(5, 3))\n",
        "\n",
        "test_quiver(start, a, color='g')\n",
        "test_quiver(start, e_x, color='k')\n",
        "test_quiver(start, e_y, color='k')\n",
        "\n",
        "plt.xlim(-2, 5)\n",
        "plt.ylim(-3, 6)\n",
        "plt.xlabel('x')\n",
        "plt.ylabel('y')\n",
        "plt.gca().set_aspect('equal')\n",
        "\n",
        "plt.show()"
      ],
      "metadata": {
        "colab": {
          "base_uri": "https://localhost:8080/",
          "height": 230
        },
        "id": "1AKR84T87vGC",
        "outputId": "9290c78d-4e99-4068-95fa-8c9556fd58eb"
      },
      "execution_count": null,
      "outputs": [
        {
          "output_type": "display_data",
          "data": {
            "image/png": "[encoded data removed]",
            "text/plain": [
              "<Figure size 360x216 with 1 Axes>"
            ]
          },
          "metadata": {
            "image/png": {
              "width": 174,
              "height": 213
            }
          }
        }
      ]
    },
    {
      "cell_type": "markdown",
      "source": [
        "검정선 표준기저에 각각 상수를 곱하고 더하면 초록선 벡터로 도출됩니다.\n",
        "\n",
        "수식을 일반화하면 아래와 같습니다.\n",
        "\n",
        "> $\\overrightarrow{a} = \\displaystyle\\sum_{j=1}^m r_{j}\\overrightarrow{e}_j$\n",
        "\n",
        "$r_j$은 상수, $\\overrightarrow{e}_j$는 표준기저입니다.\n",
        "\n",
        "행렬 $A$에 $\\overrightarrow{a}$을 행렬곱 하여 선형변환을 한다면 아래와 같습니다.\n",
        "\n",
        "> $A =\n",
        "\\begin{pmatrix}\n",
        "a_{11} & a_{12} & \\cdots & a_{1m} \\\\\n",
        "a_{21} & a_{22} & \\cdots & a_{2m} \\\\\n",
        "\\vdots & \\vdots & \\ddots & \\vdots  \\\\\n",
        "a_{n1} & a_{n2} & \\cdots & a_{nm}\n",
        "\\end{pmatrix}$\n",
        "\n",
        "> $\\overrightarrow{b} = A\\overrightarrow{a}$\n",
        "\n",
        "> $\\overrightarrow{b} = \\displaystyle\\sum_{k=1}^n s_{k}\\overrightarrow{e}_k$\n",
        "\n",
        "$s_{k}$는 표준기저에 곱하는 상수입니다.\n",
        "\n",
        "> $s_k = \\displaystyle\\sum_{j=1}^m r_{j}a_{kj}$\n",
        "\n",
        "만약 행렬 $A$가 정방행렬이 아니라면 벡터의 원소 개수는 변합니다.\n",
        "\n",
        "> $\\begin{pmatrix}\n",
        "1 & 2 \\\\\n",
        "3 & 4 \\\\\n",
        "5 & 6\n",
        "\\end{pmatrix}\n",
        "\\begin{pmatrix}\n",
        "1 \\\\\n",
        "2\n",
        "\\end{pmatrix} =\n",
        "\\begin{pmatrix}\n",
        "5 \\\\\n",
        "11 \\\\\n",
        "17\n",
        "\\end{pmatrix}$"
      ],
      "metadata": {
        "id": "pD6pIDhJ-gPj"
      }
    },
    {
      "cell_type": "markdown",
      "source": [
        "# **6. 고윳값 및 고유벡터**"
      ],
      "metadata": {
        "id": "y2Y6VRDbvded"
      }
    },
    {
      "cell_type": "markdown",
      "source": [
        "정방행렬 $A$가 존재한다고 가정하겠습니다. 행렬 $A$와 다음 관계를 만족하는 스칼라 $\\lambda$를 행렬 $A$의 **고윳값**이라고 부르며, 벡터 $\\overrightarrow{x}$를 행렬 $A$의 **고유벡터**라고 부릅니다. \n",
        "\n",
        "> $A \\overrightarrow{x} = \\lambda \\overrightarrow{x}$\n",
        "\n",
        "고윳값은 고유 벡터가 변환되는 크기의 정도이며, 고유벡터는 선형변환을 취하면 각 원소가 고윳값만큼 배가 되는 벡터입니다(방향은 그대로 유지되면서 크기만 변합니다). 다시 말하면, 벡터 $\\overrightarrow{x}$에 선형 변환 $A$를 취하면 기존 벡터의 방향은 그대로이면서 길이만 $\\lambda$만큼 변합니다.\n",
        "\n",
        "고유벡터를 구하는 수식을 설명하기 위해 간단한 예를 들겠습니다. 단위 행렬 $E$를 곱해도 벡터는 변화하지 않으므로 아래처럼 수식화할 수 있습니다.\n",
        "\n",
        "> $E = \\begin{pmatrix}\n",
        "1 & 0 \\\\\n",
        "0 & 1\n",
        "\\end{pmatrix}$\n",
        "\n",
        "> $A \\overrightarrow{x} = \\lambda E \\overrightarrow{x}$\n",
        "\n",
        "이 수식의 좌변으로 우변을 이항하면 아래 수식과 같습니다.\n",
        "\n",
        "> $(A - \\lambda E) \\overrightarrow{x} = \\overrightarrow{0}$\n",
        "\n",
        "$\\overrightarrow{0}$는 모든 원소가 0인 벡터입니다. 여기에 행렬 $(A - \\lambda E)$가 역행렬 $(A - \\lambda E)^{-1}$을 가진다고 가정하고 양 변에 곱하겠습니다.\n",
        "\n",
        "> $\\overrightarrow{x} = (A - \\lambda E)^{-1} \\overrightarrow{0} = \\overrightarrow{0}$\n",
        "\n",
        "결론적으로 $\\overrightarrow{x} = \\overrightarrow{0}$가 됐습니다.\n",
        "\n",
        "만약 행렬 $(A - \\lambda E)$가 역행렬이 없는 경우라면 아래 식으로 표현됩니다. 고윳값을 구하는 식이며 **고유방정식**입니다.\n",
        "\n",
        "> $det(A - \\lambda E) = 0$\n",
        "\n",
        "예시로 고윳값을 계산하겠습니다. 계산에 사용할 수식은 $det(A - \\lambda E) = 0$입니다.\n",
        "\n",
        "> $A = \\begin{pmatrix}\n",
        "3 & 1 \\\\\n",
        "2 & 4\n",
        "\\end{pmatrix}$\n",
        "\n",
        "> $det\\begin{pmatrix}\\begin{pmatrix}\n",
        "3 & 1 \\\\\n",
        "2 & 4\n",
        "\\end{pmatrix} - \\lambda \\begin{pmatrix}\n",
        "1 & 0 \\\\\n",
        "0 & 1\n",
        "\\end{pmatrix}\n",
        "\\end{pmatrix} = 0$\n",
        "\n",
        "> $det\\begin{pmatrix}\n",
        "3 - \\lambda & 1 \\\\\n",
        "2 & 4 - \\lambda\n",
        "\\end{pmatrix} = 0$\n",
        "\n",
        "> $(3 - \\lambda)(4 - \\lambda) - 1 \\times 2 = 0$\n",
        "\n",
        "> $\\lambda^2  - 7\\lambda + 10 = 0$\n",
        "\n",
        "> $(\\lambda - 2)(\\lambda - 10) = 0$\n",
        "\n",
        "고윳값 $\\lambda$는 2 또는 5입니다.\n",
        "\n",
        "다음은 고유벡터를 구하겠습니다. $\\lambda$가 2인 경우와 5인 경우 모두를 고려해야 합니다. 고유벡터를 구하는 데 사용할 식은 $(A - \\lambda E) \\overrightarrow{x} = \\overrightarrow{0}$입니다.\n",
        "\n",
        "먼저 $\\lambda = 2$일 때 $\\overrightarrow{x}$를 아래와 같이 가정합니다.\n",
        "\n",
        "> $\\overrightarrow{x} =\n",
        "\\begin{pmatrix}\n",
        "p \\\\\n",
        "q\n",
        "\\end{pmatrix}$\n",
        "\n",
        "여기에 $(A - \\lambda E) \\overrightarrow{x} = \\overrightarrow{0}$을 적용하겠습니다.\n",
        "\n",
        "> $(A - 2E) \\begin{pmatrix}\n",
        "p \\\\\n",
        "q\n",
        "\\end{pmatrix} = \\overrightarrow{0}$\n",
        "\n",
        "> $\\begin{pmatrix}\n",
        "3 - 2 & 1 \\\\\n",
        "2 & 4 - 2\n",
        "\\end{pmatrix} \\begin{pmatrix}\n",
        "p \\\\\n",
        "q\n",
        "\\end{pmatrix} = \\overrightarrow{0}$\n",
        "\n",
        "> $\\begin{pmatrix}\n",
        "1 & 1 \\\\\n",
        "2 & 2\n",
        "\\end{pmatrix} \\begin{pmatrix}\n",
        "p \\\\\n",
        "q\n",
        "\\end{pmatrix} = \\overrightarrow{0}$\n",
        "\n",
        "> $\\begin{pmatrix}\n",
        "p + q \\\\\n",
        "2p + 2q\n",
        "\\end{pmatrix} = \\overrightarrow{0}$\n",
        "\n",
        "$p + q = 0$입니다. 이 조건을 만족하는 아래 벡터가 $\\lambda = 2$일 때 $A$의 고유벡터가 되는 것입니다. $t$는 임의의 실수입니다.\n",
        "\n",
        "> $\\overrightarrow{x} = \\begin{pmatrix}\n",
        "t \\\\\n",
        "-t\n",
        "\\end{pmatrix}$\n",
        "\n",
        "위와 같은 방식으로 $\\lambda = 5$일 때 고유벡터를 구하겠습니다.\n",
        "\n",
        "> $\\begin{pmatrix}\n",
        "3 - 5 & 1 \\\\\n",
        "2 & 4 - 5\n",
        "\\end{pmatrix} \\begin{pmatrix}\n",
        "p \\\\\n",
        "q\n",
        "\\end{pmatrix} = \\overrightarrow{0}$\n",
        "\n",
        "> $\\begin{pmatrix}\n",
        "-2 & 1 \\\\\n",
        "2 & -1\n",
        "\\end{pmatrix} \\begin{pmatrix}\n",
        "p \\\\\n",
        "q\n",
        "\\end{pmatrix} = \\overrightarrow{0}$\n",
        "\n",
        "> $\\begin{pmatrix}\n",
        "-2p + q \\\\\n",
        "2p - q\n",
        "\\end{pmatrix} = \\overrightarrow{0}$\n",
        "\n",
        "$2p - q = 0$입니다. $t$는 임의의 실수입니다.\n",
        "\n",
        "> $\\overrightarrow{x} = \\begin{pmatrix}\n",
        "t \\\\\n",
        "2t\n",
        "\\end{pmatrix}$"
      ],
      "metadata": {
        "id": "i_aLzQ8ZPIBE"
      }
    },
    {
      "cell_type": "markdown",
      "source": [
        "위에서 설명한 내용을 코드로 구현하려면 `np.linalg.eig()` 메서드를 사용합니다. 이 메서드를 사용하여 고윳값과 고유벡터를 구할 수 있습니다. "
      ],
      "metadata": {
        "id": "cT6kw9-Eh7jY"
      }
    },
    {
      "cell_type": "code",
      "source": [
        "a = np.array([[3, 1],\n",
        "              [2, 4]])\n",
        "\n",
        "eig_a = np.linalg.eig(a)\n",
        "print('고윳값:', eig_a[0])\n",
        "print('고유벡터:', eig_a[1])"
      ],
      "metadata": {
        "colab": {
          "base_uri": "https://localhost:8080/"
        },
        "id": "h6417Z3OVA5X",
        "outputId": "a824cab7-16a8-43d9-c63f-43308825db63"
      },
      "execution_count": null,
      "outputs": [
        {
          "output_type": "stream",
          "name": "stdout",
          "text": [
            "고윳값: [2. 5.]\n",
            "고유벡터: [[-0.70710678 -0.4472136 ]\n",
            " [ 0.70710678 -0.89442719]]\n"
          ]
        }
      ]
    },
    {
      "cell_type": "markdown",
      "source": [
        "첫 번째 배열(array)은 고윳값으로 2와 5가 출력됐습니다. 두 번째 배열은 행렬로 출력되었으며 열은 고유벡터를 의미합니다. 고윳값(eigenvalue)과 고유벡터(eigenvector)는 **주성분 분석(principal component analysis)**에서 사용됩니다. 각 고유벡터는 $L^2$놈이 1입니다. $L^2$놈이 1인 벡터를 **단위벡터**라고 부릅니다. 단위벡터는 주어진 벡터와 방향은 같고 크기가 1인 벡터입니다.\n",
        "\n"
      ],
      "metadata": {
        "id": "NiY_xgMRSSIt"
      }
    },
    {
      "cell_type": "markdown",
      "source": [
        "# **7. 코사인 유사도** "
      ],
      "metadata": {
        "id": "zf5p7SdnvdcO"
      }
    },
    {
      "cell_type": "markdown",
      "source": [
        "**코사인 유사도(cosine similarity)**는 벡터간 방향의 가까운 정도를 의미합니다. 두 벡터의 방향의 일치성을 나타내는 지표로 활용됩니다.\n",
        "\n",
        "설명을 위해 임의의 화살표 그래프를 그리겠습니다."
      ],
      "metadata": {
        "id": "P9CxpD4lktZx"
      }
    },
    {
      "cell_type": "code",
      "source": [
        "plt.style.use('ggplot')\n",
        "plt.figure(figsize=(10, 5))\n",
        "\n",
        "start = np.array([0, 0])\n",
        "a = np.array([10, 11])\n",
        "b = np.array([13, 3]) \n",
        "\n",
        "def test_quiver(start, vector, color):\n",
        "    plt.quiver(start[0], start[1], vector[0], vector[1], angles='xy',\n",
        "               scale_units='xy', scale=1, color=color)\n",
        "\n",
        "test_quiver(start, a, color='k')\n",
        "test_quiver(start, b, color='r')\n",
        "\n",
        "plt.xlim([0, 15])\n",
        "plt.ylim([0, 14])\n",
        "plt.xlabel('x')\n",
        "plt.ylabel('y')\n",
        "plt.gca().set_aspect('equal')\n",
        "\n",
        "plt.show()"
      ],
      "metadata": {
        "colab": {
          "base_uri": "https://localhost:8080/",
          "height": 338
        },
        "id": "-hhdddWtmiZN",
        "outputId": "ba03ef63-eeb6-4fc1-efc2-04ffd066e3f8"
      },
      "execution_count": null,
      "outputs": [
        {
          "output_type": "display_data",
          "data": {
            "image/png": "[encoded data removed]",
            "text/plain": [
              "<Figure size 720x360 with 1 Axes>"
            ]
          },
          "metadata": {
            "image/png": {
              "width": 341,
              "height": 322
            }
          }
        }
      ]
    },
    {
      "cell_type": "markdown",
      "source": [
        "검은선은 벡터 $\\overrightarrow{a}$, 빨간선은 벡터 $\\overrightarrow{b}$이고, 두 선의 사이각은 $\\theta$입니다. 참고로 $cos\\theta$은 아래 식으로 구합니다.\n",
        "\n",
        "$cos\\theta = \\frac{a}{c}$\n",
        "\n",
        "이 그래프에서는 검은선이 $c$이고 빨간선이 $a$입니다.\n",
        "\n",
        "이전 챕터에서 두 벡터의 내적을 아래와 같이 수식화했었습니다.\n",
        "\n",
        "> $\\overrightarrow{a} \\cdot \\overrightarrow{b} = a_1b_1 + a_2b_2$\n",
        "\n",
        "이 내적을 삼각함수와 $L^2$놈을 사용해서 구할 수 있습니다.\n",
        "\n",
        "> $\\overrightarrow{a} \\cdot \\overrightarrow{b} = ||\\overrightarrow{a}||_2 ||\\overrightarrow{b}||_2 cos\\theta = \\sqrt{a_1^2 + a_2^2}\\sqrt{b_1^2 + b_2^2}cos\\theta$\n",
        "\n",
        "이러한 방법을 토대로 $cos\\theta$을 아래 식으로 구할 수 있습니다.\n",
        "\n",
        "> $cos\\theta = \\frac{a_1b_1 + a_2b_2}{\\sqrt{a_1^2 + a_2^2}\\sqrt{b_1^2 + b_2^2}}$\n",
        "\n",
        "파트 초입부에 코사인 유사도는 두 벡터의 방향의 일치성을 나타내는 지표로 활용된다고 서술했습니다. $cos\\theta$는 두 벡터간 사이각 $\\theta$가 0일 때 최댓값이고, 사이각 $\\theta$가 커질수록 점점 작아집니다. 이 $cos\\theta$을 토대로 방향이 얼마나 일치하는지 판단합니다. 다시 말하면 $cos\\theta$이 1이면 방향은 완전히 일치하고, -1이면 완전히 반대 방향입니다.\n",
        "\n",
        "물론 2차원 벡터 이상의 차원인 $n$차원 벡터까지 확장할 수 있습니다.\n",
        "\n",
        "> > $cos\\theta = \\frac{\\displaystyle\\sum_{k=1}^n a_kb_k}{\\sqrt{\\displaystyle\\sum_{k=1}^n a_k^2} \\sqrt{\\displaystyle\\sum_{k=1}^n b_k^2}} = \\frac{\\overrightarrow{a} \\cdot \\overrightarrow{b}}{||\\overrightarrow{a}||_2 ||\\overrightarrow{b}||_2}$\n",
        "\n",
        "참고로 자연어 처리 분야에서 단어를 벡터로 나타내고, 단어간 관계성을 파악하는 데 코사인 유사도를 사용합니다."
      ],
      "metadata": {
        "id": "t8tA1VG-_MJs"
      }
    },
    {
      "cell_type": "markdown",
      "source": [
        "코드로 코사인 유사도를 계산하겠습니다. \n",
        "\n",
        "> $cos\\theta = \\frac{a_1b_1 + a_2b_2}{\\sqrt{a_1^2 + a_2^2}\\sqrt{b_1^2 + b_2^2}}$\n",
        "\n",
        "`np.dot()` 메서드로 내적을 계산하고, `np.linalg.norm()` 메서드로 $L^2$놈을 계산하겠습니다."
      ],
      "metadata": {
        "id": "Z4ksQdoSLu3i"
      }
    },
    {
      "cell_type": "code",
      "source": [
        "def cosine_similarity(vector1, vector2):\n",
        "    return np.dot(vector1, vector2) / (np.linalg.norm(vector1) * np.linalg.norm(vector2))\n",
        "\n",
        "a = np.array([5, 5, 5, 5])\n",
        "b = np.array([2, 2, 2, 2])\n",
        "c = np.array([0.5, 0.5, 1, 1])\n",
        "d = np.array([5, 5, 3, 4])\n",
        "e = np.array([-10, -10, -10, -10])\n",
        "f = np.array([0, 0, -1, 0])\n",
        "\n",
        "print(f'a와 b의 코사인 유사도는 {cosine_similarity(a, b)}입니다.')\n",
        "print(f'a와 c의 코사인 유사도는 {cosine_similarity(a, c)}입니다.')\n",
        "print(f'a와 d의 코사인 유사도는 {cosine_similarity(a, d)}입니다.')\n",
        "print(f'a와 e의 코사인 유사도는 {cosine_similarity(a, e)}입니다.')\n",
        "print(f'a와 f의 코사인 유사도는 {cosine_similarity(a, f)}입니다.')"
      ],
      "metadata": {
        "colab": {
          "base_uri": "https://localhost:8080/"
        },
        "id": "pemkqLnWIKak",
        "outputId": "866e30c6-5994-492c-891a-a97bf549a017"
      },
      "execution_count": null,
      "outputs": [
        {
          "output_type": "stream",
          "name": "stdout",
          "text": [
            "a와 b의 코사인 유사도는 1.0입니다.\n",
            "a와 c의 코사인 유사도는 0.9486832980505138입니다.\n",
            "a와 d의 코사인 유사도는 0.9814954576223637입니다.\n",
            "a와 e의 코사인 유사도는 -1.0입니다.\n",
            "a와 f의 코사인 유사도는 -0.5입니다.\n"
          ]
        }
      ]
    }
  ]
}