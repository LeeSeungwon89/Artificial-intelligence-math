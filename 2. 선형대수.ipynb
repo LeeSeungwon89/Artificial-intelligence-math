{
  "nbformat": 4,
  "nbformat_minor": 0,
  "metadata": {
    "colab": {
      "name": "2. 선형대수.ipynb",
      "provenance": [],
      "toc_visible": true,
      "authorship_tag": "ABX9TyPtkwvcvono5umJE5o0Cb0v",
      "include_colab_link": true
    },
    "kernelspec": {
      "name": "python3",
      "display_name": "Python 3"
    },
    "language_info": {
      "name": "python"
    }
  },
  "cells": [
    {
      "cell_type": "markdown",
      "metadata": {
        "id": "view-in-github",
        "colab_type": "text"
      },
      "source": [
        "<a href=\"https://colab.research.google.com/github/LeeSeungwon89/Mathematics_for_Data_Analystics_Science/blob/main/2.%20%EC%84%A0%ED%98%95%EB%8C%80%EC%88%98.ipynb\" target=\"_parent\"><img src=\"https://colab.research.google.com/assets/colab-badge.svg\" alt=\"Open In Colab\"/></a>"
      ]
    },
    {
      "cell_type": "markdown",
      "source": [
        "**선형대수**는 다차원 구조를 가진 수치의 나열을 다루는 수학 분야입니다. 인공지능에서 선형대수를 활용하면 많은 수치를 간결한 수식으로 처리하고 기술할 수 있습니다."
      ],
      "metadata": {
        "id": "JRfch_k-zDOF"
      }
    },
    {
      "cell_type": "markdown",
      "source": [
        "# **1. 스칼라**"
      ],
      "metadata": {
        "id": "s-oEoEpyvV8L"
      }
    },
    {
      "cell_type": "markdown",
      "source": [
        "**스칼라(scalar)**는 보통 수치(1, 4.6, 1.5e6, -8 등)를 의미합니다. 행렬을 구성하는 요소 중에 최소 단위입니다."
      ],
      "metadata": {
        "id": "HLBZbrzQy736"
      }
    },
    {
      "cell_type": "markdown",
      "source": [
        "# **2. 벡터**"
      ],
      "metadata": {
        "id": "gtJqJt0Gvdsr"
      }
    },
    {
      "cell_type": "markdown",
      "source": [
        "**벡터(vector)**는 스칼라의 집합이며 스칼라를 직선 상에 나열한 것을 의미합니다. 스칼라는 크기만 가지고, 벡터는 크기와 방향을 가집니다. 벡터 표기는 아래와 같습니다.\n",
        "\n",
        "> $\\overrightarrow{a} = \\begin{pmatrix}\n",
        "3\\\\\n",
        "4\\\\\n",
        "5\n",
        "\\end{pmatrix}$\n",
        "\n",
        "> $\\overrightarrow{b} = \\begin{pmatrix}\n",
        "b_1\\\\\n",
        "b_2\\\\\n",
        "\\vdots\\\\\n",
        "b_m\n",
        "\\end{pmatrix}$\n",
        "\n",
        "> $\\overrightarrow{c} = (1.2, 3.21, -3.6, 0.1)$\n",
        "\n",
        "> $\\overrightarrow{d} = (d_1, d_2, \\cdots, d_n)$\n",
        "\n",
        "$\\overrightarrow{a}$와 $\\overrightarrow{b}$는 세로 벡터, $\\overrightarrow{c}$와 $\\overrightarrow{d}$는 가로 벡터입니다. 아울러 벡터의 요소를 변수로 나타낼 때 $\\overrightarrow{b}$와 $\\overrightarrow{d}$의 첨자(알파벳 아래 붙은 $n$) 수는 1개이며, 첨자의 개수에 따라 차원이 달라집니다. 벡터의 차원은 1차원입니다."
      ],
      "metadata": {
        "id": "mcl5RuC6z_8C"
      }
    },
    {
      "cell_type": "markdown",
      "source": [
        "## **2.1. 내적**"
      ],
      "metadata": {
        "id": "UqEMQUzgwSoL"
      }
    },
    {
      "cell_type": "markdown",
      "source": [
        "## **2.2. 놈**"
      ],
      "metadata": {
        "id": "Yr-7UYoHwV9y"
      }
    },
    {
      "cell_type": "markdown",
      "source": [
        "# **3. 행렬**"
      ],
      "metadata": {
        "id": "q0vkHuV6vdlT"
      }
    },
    {
      "cell_type": "markdown",
      "source": [
        "## **3.1. 행렬 곱**"
      ],
      "metadata": {
        "id": "bWqxi9qKwbco"
      }
    },
    {
      "cell_type": "markdown",
      "source": [
        "## **3.2. 행렬 요소별 곱**"
      ],
      "metadata": {
        "id": "jpRZ-GoSwfKE"
      }
    },
    {
      "cell_type": "markdown",
      "source": [
        "## **3.3. 전치**"
      ],
      "metadata": {
        "id": "aUP6reN0woju"
      }
    },
    {
      "cell_type": "markdown",
      "source": [
        "## **3.4. 단위행렬**"
      ],
      "metadata": {
        "id": "PZEiEpfgwqC4"
      }
    },
    {
      "cell_type": "markdown",
      "source": [
        "## **3.5. 역행렬**"
      ],
      "metadata": {
        "id": "BtOnPknrww2v"
      }
    },
    {
      "cell_type": "markdown",
      "source": [
        "## **3.6. 행렬식**"
      ],
      "metadata": {
        "id": "CO3lOxnDwzKK"
      }
    },
    {
      "cell_type": "markdown",
      "source": [
        "# **4. 텐서**"
      ],
      "metadata": {
        "id": "VT8mYw0Ovdi0"
      }
    },
    {
      "cell_type": "markdown",
      "source": [
        "# **5. 선형변환**"
      ],
      "metadata": {
        "id": "5iO-qqQZvdgl"
      }
    },
    {
      "cell_type": "markdown",
      "source": [
        "## **5.1. 선형변환**"
      ],
      "metadata": {
        "id": "NeEmwkeTxI3h"
      }
    },
    {
      "cell_type": "markdown",
      "source": [
        "## **5.2. 표준기저**"
      ],
      "metadata": {
        "id": "rf_sI61gxKil"
      }
    },
    {
      "cell_type": "markdown",
      "source": [
        "# **6. 고윳값 및 고유벡터**"
      ],
      "metadata": {
        "id": "y2Y6VRDbvded"
      }
    },
    {
      "cell_type": "markdown",
      "source": [
        "# **7. 코사인 유사도** "
      ],
      "metadata": {
        "id": "zf5p7SdnvdcO"
      }
    }
  ]
}