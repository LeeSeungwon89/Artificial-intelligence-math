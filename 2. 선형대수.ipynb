{
  "nbformat": 4,
  "nbformat_minor": 0,
  "metadata": {
    "colab": {
      "name": "2. 선형대수.ipynb",
      "provenance": [],
      "toc_visible": true,
      "authorship_tag": "ABX9TyMcGYEgtgyJoe1XFTwOebU9",
      "include_colab_link": true
    },
    "kernelspec": {
      "name": "python3",
      "display_name": "Python 3"
    },
    "language_info": {
      "name": "python"
    }
  },
  "cells": [
    {
      "cell_type": "markdown",
      "metadata": {
        "id": "view-in-github",
        "colab_type": "text"
      },
      "source": [
        "<a href=\"https://colab.research.google.com/github/LeeSeungwon89/Mathematics_for_Data_Analystics_Science/blob/main/2.%20%EC%84%A0%ED%98%95%EB%8C%80%EC%88%98.ipynb\" target=\"_parent\"><img src=\"https://colab.research.google.com/assets/colab-badge.svg\" alt=\"Open In Colab\"/></a>"
      ]
    },
    {
      "cell_type": "markdown",
      "source": [
        "# **1. 스칼라**"
      ],
      "metadata": {
        "id": "s-oEoEpyvV8L"
      }
    },
    {
      "cell_type": "markdown",
      "source": [
        "# **2. 벡터**"
      ],
      "metadata": {
        "id": "gtJqJt0Gvdsr"
      }
    },
    {
      "cell_type": "markdown",
      "source": [
        "## **2.1. 내적**"
      ],
      "metadata": {
        "id": "UqEMQUzgwSoL"
      }
    },
    {
      "cell_type": "markdown",
      "source": [
        "## **2.2. 놈**"
      ],
      "metadata": {
        "id": "Yr-7UYoHwV9y"
      }
    },
    {
      "cell_type": "markdown",
      "source": [
        "# **3. 행렬**"
      ],
      "metadata": {
        "id": "q0vkHuV6vdlT"
      }
    },
    {
      "cell_type": "markdown",
      "source": [
        "## **3.1. 행렬 곱**"
      ],
      "metadata": {
        "id": "bWqxi9qKwbco"
      }
    },
    {
      "cell_type": "markdown",
      "source": [
        "## **3.2. 행렬 요소별 곱**"
      ],
      "metadata": {
        "id": "jpRZ-GoSwfKE"
      }
    },
    {
      "cell_type": "markdown",
      "source": [
        "## **3.3. 전치**"
      ],
      "metadata": {
        "id": "aUP6reN0woju"
      }
    },
    {
      "cell_type": "markdown",
      "source": [
        "## **3.4. 단위행렬**"
      ],
      "metadata": {
        "id": "PZEiEpfgwqC4"
      }
    },
    {
      "cell_type": "markdown",
      "source": [
        "## **3.5. 역행렬**"
      ],
      "metadata": {
        "id": "BtOnPknrww2v"
      }
    },
    {
      "cell_type": "markdown",
      "source": [
        "## **3.6. 행렬식**"
      ],
      "metadata": {
        "id": "CO3lOxnDwzKK"
      }
    },
    {
      "cell_type": "markdown",
      "source": [
        "# **4. 텐서**"
      ],
      "metadata": {
        "id": "VT8mYw0Ovdi0"
      }
    },
    {
      "cell_type": "markdown",
      "source": [
        "# **5. 선형변환**"
      ],
      "metadata": {
        "id": "5iO-qqQZvdgl"
      }
    },
    {
      "cell_type": "markdown",
      "source": [
        "## **5.1. 선형변환**"
      ],
      "metadata": {
        "id": "NeEmwkeTxI3h"
      }
    },
    {
      "cell_type": "markdown",
      "source": [
        "## **5.2. 표준기저**"
      ],
      "metadata": {
        "id": "rf_sI61gxKil"
      }
    },
    {
      "cell_type": "markdown",
      "source": [
        "# **6. 고윳값 및 고유벡터**"
      ],
      "metadata": {
        "id": "y2Y6VRDbvded"
      }
    },
    {
      "cell_type": "markdown",
      "source": [
        "# **7. 코사인 유사도** "
      ],
      "metadata": {
        "id": "zf5p7SdnvdcO"
      }
    }
  ]
}