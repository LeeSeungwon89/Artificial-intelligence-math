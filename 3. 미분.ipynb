{
  "nbformat": 4,
  "nbformat_minor": 0,
  "metadata": {
    "colab": {
      "name": "3. 미분.ipynb",
      "provenance": [],
      "toc_visible": true,
      "authorship_tag": "ABX9TyNTadnhSAhQej8tMDADCA7a",
      "include_colab_link": true
    },
    "kernelspec": {
      "name": "python3",
      "display_name": "Python 3"
    },
    "language_info": {
      "name": "python"
    }
  },
  "cells": [
    {
      "cell_type": "markdown",
      "metadata": {
        "id": "view-in-github",
        "colab_type": "text"
      },
      "source": [
        "<a href=\"https://colab.research.google.com/github/LeeSeungwon89/Mathematics_for_Data_Analystics_Science/blob/main/3.%20%EB%AF%B8%EB%B6%84.ipynb\" target=\"_parent\"><img src=\"https://colab.research.google.com/assets/colab-badge.svg\" alt=\"Open In Colab\"/></a>"
      ]
    },
    {
      "cell_type": "markdown",
      "source": [
        "인공지능에서 어떤 파라미터가 전체에 미치는 영향을 예측하기 위해 **미분**을 사용합니다. 미분은 변화 비율을 의미하는데, 움직이는 물체의 위치를 시간으로 미분하면 물체의 속도가 도출됩니다."
      ],
      "metadata": {
        "id": "4yJXRBiMP3ON"
      }
    },
    {
      "cell_type": "markdown",
      "source": [
        "# **1. 극한**"
      ],
      "metadata": {
        "id": "enSDooWXyCE0"
      }
    },
    {
      "cell_type": "markdown",
      "source": [
        "**극한**은 함수의 변숫값이 특정 값에 무한히 가까워질 때, 함숫값이 무한히 가까워지는 값입니다. 아래에 예시를 들겠습니다. 함수 $y = x^2 + 3$에서 $x$를 점차 작게하여 $0$에 가까워지게 하는 경우입니다.\n",
        "\n",
        "> $x = 2$일 때 $y = 7$\n",
        "\n",
        "> $x = 1$일 때 $y = 5$\n",
        "\n",
        "> $x = 0.5$일 때 $y = 3.25$\n",
        "\n",
        "> $x = 0.1$일 떄 $y = 3.01$\n",
        "\n",
        "> $x = 0.01$일 때 $y = 3.0001$\n",
        "\n",
        "$x$를 한없이 $0$에 가깝게 할수록 $y$는 $3$에 점점 가까워집니다. 이를 수식화하면 아래와 같습니다.\n",
        "\n",
        "> $\\displaystyle\\lim_{x \\to 0} y = \\displaystyle\\lim_{x \\to 0} (x^2 + 3) = 3$"
      ],
      "metadata": {
        "id": "xOTBY-h6J2ic"
      }
    },
    {
      "cell_type": "markdown",
      "source": [
        "# **2. 미분**"
      ],
      "metadata": {
        "id": "QRv51N-ZyCCE"
      }
    },
    {
      "cell_type": "markdown",
      "source": [
        "함수 $y = f(x)$에서 $x$의 미소한 변화량을 $x$로 하겠습니다. $x$를 $\\Delta x$만큼 변화시킬 때 $y$ 값은 아래와 같습니다.\n",
        "\n",
        "> $y = f(x + \\Delta x)$\n",
        "\n",
        "이 때 $y$의 미소한 변화량은 아래와 같습니다.\n",
        "\n",
        "> $\\Delta y = f(x + \\Delta x) - f(x)$\n",
        "\n",
        "따라서 $y$의 미소한 변화 $\\Delta y$와 $x$의 미소한 변화 $\\Delta x$의 비율은 아래처럼 수식화할 수 있습니다.\n",
        "\n",
        "> $\\frac{\\Delta y}{\\Delta x} = \\frac{f(x + \\Delta x) - f(x)}{\\Delta x}$\n",
        "\n",
        "이 식에서 $\\Delta x$의 값을 $0$에 한없이 가까워지는 극한을 생각하겠습니다. 이 극한은 새로운 함수 $f'(x)$로 표현할 수 있습니다.\n",
        "\n",
        "> $f'(x) = \\displaystyle\\lim_{\\Delta x \\to 0} \\frac{f(x + \\Delta x) - f(x)}{\\Delta x}$\n",
        "\n",
        "이 함수 $f'(x)$를 $f(x)$의 **도함수**라고 부릅니다. 아울러 함수 $f(x)$에서 도함수 $f'(x)$를 얻는 과정을 함수 $f(x)$를 **미분**한다라고 말합니다. 도함수의 같은 표현은 아래와 같습니다.\n",
        "\n",
        "> $f'(x) = \\frac{df(x)}{dx} = \\frac{d}{dx}f(x)$\n",
        "\n",
        "함수의 변수가 $x$만 있습니다. 이처럼 1변수 함수에 대한 미분을 **상미분**한다라고 말합니다."
      ],
      "metadata": {
        "id": "TZiCV3tyOfIT"
      }
    },
    {
      "cell_type": "markdown",
      "source": [
        "# **3. 연쇄 법칙**"
      ],
      "metadata": {
        "id": "SvJIb7fByB_E"
      }
    },
    {
      "cell_type": "markdown",
      "source": [
        "## **3.1. 합성함수**"
      ],
      "metadata": {
        "id": "6p_oGyAsyXSd"
      }
    },
    {
      "cell_type": "markdown",
      "source": [
        "## **3.2. 연쇄 법칙**"
      ],
      "metadata": {
        "id": "5KkpdLyjyB8k"
      }
    },
    {
      "cell_type": "markdown",
      "source": [
        "# **4. 편미분**"
      ],
      "metadata": {
        "id": "wkiGQJi5yB58"
      }
    },
    {
      "cell_type": "markdown",
      "source": [
        "# **5. 전미분**"
      ],
      "metadata": {
        "id": "szByIhPkyB3O"
      }
    },
    {
      "cell_type": "markdown",
      "source": [
        "# **6. 다변수 합성합수 연쇄 법칙**"
      ],
      "metadata": {
        "id": "2GWc5taHyB0M"
      }
    },
    {
      "cell_type": "markdown",
      "source": [
        "## **6.1. 다변수 합성함수 미분**"
      ],
      "metadata": {
        "id": "LMAsH6j8ysRC"
      }
    },
    {
      "cell_type": "markdown",
      "source": [
        "# **7. 네이피어수 및 자연대수**"
      ],
      "metadata": {
        "id": "wEIMsKbTyxSj"
      }
    },
    {
      "cell_type": "markdown",
      "source": [
        "## **7.1 네이피어수**"
      ],
      "metadata": {
        "id": "TV5G6aQZyxP6"
      }
    },
    {
      "cell_type": "markdown",
      "source": [
        "## **7.2. 자연대수**"
      ],
      "metadata": {
        "id": "YZ_-SHuGzKQU"
      }
    },
    {
      "cell_type": "markdown",
      "source": [
        "## **7.3. 자연대수 및 도함수**"
      ],
      "metadata": {
        "id": "afZX6vLrywt5"
      }
    },
    {
      "cell_type": "markdown",
      "source": [
        "## **7.4. 시그모이드 함수**"
      ],
      "metadata": {
        "id": "q7zTumRVzIdi"
      }
    },
    {
      "cell_type": "markdown",
      "source": [
        "# **8. 최급강화법**"
      ],
      "metadata": {
        "id": "eplBnPUUzIbO"
      }
    },
    {
      "cell_type": "markdown",
      "source": [
        "## **8.1. 최급강화법**"
      ],
      "metadata": {
        "id": "zVy-uoFozIYd"
      }
    },
    {
      "cell_type": "markdown",
      "source": [
        "## **8.2. 국소적 최솟값**"
      ],
      "metadata": {
        "id": "vIbWoAsDzIV1"
      }
    }
  ]
}