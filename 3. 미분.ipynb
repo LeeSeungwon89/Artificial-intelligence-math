{
  "nbformat": 4,
  "nbformat_minor": 0,
  "metadata": {
    "colab": {
      "name": "3. 미분.ipynb",
      "provenance": [],
      "toc_visible": true,
      "authorship_tag": "ABX9TyOqBgxxWAG2xRlnXZLSgaYR",
      "include_colab_link": true
    },
    "kernelspec": {
      "name": "python3",
      "display_name": "Python 3"
    },
    "language_info": {
      "name": "python"
    }
  },
  "cells": [
    {
      "cell_type": "markdown",
      "metadata": {
        "id": "view-in-github",
        "colab_type": "text"
      },
      "source": [
        "<a href=\"https://colab.research.google.com/github/LeeSeungwon89/Mathematics_for_Data_Analystics_Science/blob/main/3.%20%EB%AF%B8%EB%B6%84.ipynb\" target=\"_parent\"><img src=\"https://colab.research.google.com/assets/colab-badge.svg\" alt=\"Open In Colab\"/></a>"
      ]
    },
    {
      "cell_type": "markdown",
      "source": [
        "인공지능에서 어떤 파라미터가 전체에 미치는 영향을 예측하기 위해 **미분**을 사용합니다. 미분은 변화 비율을 의미하는데, 움직이는 물체의 위치를 시간으로 미분하면 물체의 속도가 도출됩니다."
      ],
      "metadata": {
        "id": "4yJXRBiMP3ON"
      }
    },
    {
      "cell_type": "markdown",
      "source": [
        "# **1. 극한**"
      ],
      "metadata": {
        "id": "enSDooWXyCE0"
      }
    },
    {
      "cell_type": "markdown",
      "source": [
        "# **2. 미분**"
      ],
      "metadata": {
        "id": "QRv51N-ZyCCE"
      }
    },
    {
      "cell_type": "markdown",
      "source": [
        "# **3. 연쇄 법칙**"
      ],
      "metadata": {
        "id": "SvJIb7fByB_E"
      }
    },
    {
      "cell_type": "markdown",
      "source": [
        "## **3.1. 합성함수**"
      ],
      "metadata": {
        "id": "6p_oGyAsyXSd"
      }
    },
    {
      "cell_type": "markdown",
      "source": [
        "## **3.2. 연쇄 법칙**"
      ],
      "metadata": {
        "id": "5KkpdLyjyB8k"
      }
    },
    {
      "cell_type": "markdown",
      "source": [
        "# **4. 편미분**"
      ],
      "metadata": {
        "id": "wkiGQJi5yB58"
      }
    },
    {
      "cell_type": "markdown",
      "source": [
        "# **5. 전미분**"
      ],
      "metadata": {
        "id": "szByIhPkyB3O"
      }
    },
    {
      "cell_type": "markdown",
      "source": [
        "# **6. 다변수 합성합수 연쇄 법칙**"
      ],
      "metadata": {
        "id": "2GWc5taHyB0M"
      }
    },
    {
      "cell_type": "markdown",
      "source": [
        "## **6.1. 다변수 합성함수 미분**"
      ],
      "metadata": {
        "id": "LMAsH6j8ysRC"
      }
    },
    {
      "cell_type": "markdown",
      "source": [
        "# **7. 네이피어수 및 자연대수**"
      ],
      "metadata": {
        "id": "wEIMsKbTyxSj"
      }
    },
    {
      "cell_type": "markdown",
      "source": [
        "## **7.1 네이피어수**"
      ],
      "metadata": {
        "id": "TV5G6aQZyxP6"
      }
    },
    {
      "cell_type": "markdown",
      "source": [
        "## **7.2. 자연대수**"
      ],
      "metadata": {
        "id": "YZ_-SHuGzKQU"
      }
    },
    {
      "cell_type": "markdown",
      "source": [
        "## **7.3. 자연대수 및 도함수**"
      ],
      "metadata": {
        "id": "afZX6vLrywt5"
      }
    },
    {
      "cell_type": "markdown",
      "source": [
        "## **7.4. 시그모이드 함수**"
      ],
      "metadata": {
        "id": "q7zTumRVzIdi"
      }
    },
    {
      "cell_type": "markdown",
      "source": [
        "# **8. 최급강화법**"
      ],
      "metadata": {
        "id": "eplBnPUUzIbO"
      }
    },
    {
      "cell_type": "markdown",
      "source": [
        "## **8.1. 최급강화법**"
      ],
      "metadata": {
        "id": "zVy-uoFozIYd"
      }
    },
    {
      "cell_type": "markdown",
      "source": [
        "## **8.2. 국소적 최솟값**"
      ],
      "metadata": {
        "id": "vIbWoAsDzIV1"
      }
    }
  ]
}