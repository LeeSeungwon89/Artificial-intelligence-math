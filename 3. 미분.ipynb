{
  "nbformat": 4,
  "nbformat_minor": 0,
  "metadata": {
    "colab": {
      "name": "3. 미분.ipynb",
      "provenance": [],
      "toc_visible": true,
      "authorship_tag": "ABX9TyP1mJHCPNieE4L2HAKnI6vm",
      "include_colab_link": true
    },
    "kernelspec": {
      "name": "python3",
      "display_name": "Python 3"
    },
    "language_info": {
      "name": "python"
    }
  },
  "cells": [
    {
      "cell_type": "markdown",
      "metadata": {
        "id": "view-in-github",
        "colab_type": "text"
      },
      "source": [
        "<a href=\"https://colab.research.google.com/github/LeeSeungwon89/Mathematics_for_Data_Analystics_Science/blob/main/3.%20%EB%AF%B8%EB%B6%84.ipynb\" target=\"_parent\"><img src=\"https://colab.research.google.com/assets/colab-badge.svg\" alt=\"Open In Colab\"/></a>"
      ]
    },
    {
      "cell_type": "code",
      "source": [
        "import numpy as np\n",
        "import matplotlib as mpl\n",
        "import matplotlib.pylab as plb\n",
        "import matplotlib.pyplot as plt\n",
        "%matplotlib inline\n",
        "%config InlineBackend.figure_format = 'retina'\n",
        "mpl.rc('axes', unicode_minus=False)"
      ],
      "metadata": {
        "id": "n5bS1wnuUTA_"
      },
      "execution_count": 1,
      "outputs": []
    },
    {
      "cell_type": "markdown",
      "source": [
        "인공지능에서 어떤 파라미터가 전체에 미치는 영향을 예측하기 위해 **미분**을 사용합니다. 미분은 변화 비율을 의미하는데, 움직이는 물체의 위치를 시간으로 미분하면 물체의 속도가 도출됩니다."
      ],
      "metadata": {
        "id": "4yJXRBiMP3ON"
      }
    },
    {
      "cell_type": "markdown",
      "source": [
        "# **1. 극한**"
      ],
      "metadata": {
        "id": "enSDooWXyCE0"
      }
    },
    {
      "cell_type": "markdown",
      "source": [
        "**극한**은 함수의 변숫값이 특정 값에 무한히 가까워질 때, 함숫값이 무한히 가까워지는 값입니다. 아래에 예시를 들겠습니다. 함수 $y = x^2 + 3$에서 $x$를 점차 작게하여 $0$에 가까워지게 하는 경우입니다.\n",
        "\n",
        "> $x = 2$일 때 $y = 7$\n",
        "\n",
        "> $x = 1$일 때 $y = 5$\n",
        "\n",
        "> $x = 0.5$일 때 $y = 3.25$\n",
        "\n",
        "> $x = 0.1$일 떄 $y = 3.01$\n",
        "\n",
        "> $x = 0.01$일 때 $y = 3.0001$\n",
        "\n",
        "$x$를 한없이 $0$에 가깝게 할수록 $y$는 $3$에 점점 가까워집니다. 이를 수식화하면 아래와 같습니다.\n",
        "\n",
        "> $\\displaystyle\\lim_{x \\to 0} y = \\displaystyle\\lim_{x \\to 0} (x^2 + 3) = 3$"
      ],
      "metadata": {
        "id": "xOTBY-h6J2ic"
      }
    },
    {
      "cell_type": "markdown",
      "source": [
        "# **2. 미분**"
      ],
      "metadata": {
        "id": "QRv51N-ZyCCE"
      }
    },
    {
      "cell_type": "markdown",
      "source": [
        "함수 $y = f(x)$에서 $x$의 미소한 변화량을 $\\Delta x$로 하겠습니다. $x$를 $\\Delta x$만큼 변화시킬 때 $y$ 값은 아래와 같습니다.\n",
        "\n",
        "> $y = f(x + \\Delta x)$\n",
        "\n",
        "이 때 $y$의 미소한 변화량은 아래와 같습니다.\n",
        "\n",
        "> $\\Delta y = f(x + \\Delta x) - f(x)$\n",
        "\n",
        "따라서 $y$의 미소한 변화량 $\\Delta y$와 $x$의 미소한 변화량 $\\Delta x$의 비율은 아래처럼 수식화할 수 있습니다.\n",
        "\n",
        "> $\\frac{\\Delta y}{\\Delta x} = \\frac{f(x + \\Delta x) - f(x)}{\\Delta x}$\n",
        "\n",
        "이 식에서 $\\Delta x$의 값을 $0$에 한없이 가까워지는 극한을 생각하겠습니다. 이 극한은 새로운 함수 $f'(x)$로 표현할 수 있습니다.\n",
        "\n",
        "> $f'(x) = \\displaystyle\\lim_{\\Delta x \\to 0} \\frac{f(x + \\Delta x) - f(x)}{\\Delta x}$\n",
        "\n",
        "이 함수 $f'(x)$를 $f(x)$의 **도함수**라고 부릅니다. 아울러 함수 $f(x)$에서 도함수 $f'(x)$를 얻는 과정을 함수 $f(x)$를 **미분**한다라고 말합니다. 도함수의 같은 표현은 아래와 같습니다.\n",
        "\n",
        "> $f'(x) = \\frac{df(x)}{dx} = \\frac{d}{dx}f(x)$\n",
        "\n",
        "함수의 변수가 $x$만 있습니다. 이처럼 1변수 함수에 대한 미분을 **상미분**한다라고 말합니다.\n",
        "\n",
        "$x$에 대한 $y$의 변화 비율을 **기울기(=경사, 그레디언트, 구배)**라고 부릅니다. 도함수에 의해 1변수 함수 상의 특정 점에서의 기울기를 구할 수 있습니다. 함수 $f(x)$ 상의 어떤점 $(a, f(a))$에서 기울기는 $f'(a)$가 됩니다.\n",
        "\n",
        "![화면 캡처 2021-12-20 143736.png](data:image/png;base64,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)"
      ],
      "metadata": {
        "id": "TZiCV3tyOfIT"
      }
    },
    {
      "cell_type": "markdown",
      "source": [
        "# **3. 연쇄 법칙**"
      ],
      "metadata": {
        "id": "SvJIb7fByB_E"
      }
    },
    {
      "cell_type": "markdown",
      "source": [
        "## **3.1. 합성함수**"
      ],
      "metadata": {
        "id": "6p_oGyAsyXSd"
      }
    },
    {
      "cell_type": "markdown",
      "source": [
        "## **3.2. 연쇄 법칙**"
      ],
      "metadata": {
        "id": "5KkpdLyjyB8k"
      }
    },
    {
      "cell_type": "markdown",
      "source": [
        "# **4. 편미분**"
      ],
      "metadata": {
        "id": "wkiGQJi5yB58"
      }
    },
    {
      "cell_type": "markdown",
      "source": [
        "# **5. 전미분**"
      ],
      "metadata": {
        "id": "szByIhPkyB3O"
      }
    },
    {
      "cell_type": "markdown",
      "source": [
        "# **6. 다변수 합성합수 연쇄 법칙**"
      ],
      "metadata": {
        "id": "2GWc5taHyB0M"
      }
    },
    {
      "cell_type": "markdown",
      "source": [
        "## **6.1. 다변수 합성함수 미분**"
      ],
      "metadata": {
        "id": "LMAsH6j8ysRC"
      }
    },
    {
      "cell_type": "markdown",
      "source": [
        "# **7. 네이피어수 및 자연대수**"
      ],
      "metadata": {
        "id": "wEIMsKbTyxSj"
      }
    },
    {
      "cell_type": "markdown",
      "source": [
        "## **7.1 네이피어수**"
      ],
      "metadata": {
        "id": "TV5G6aQZyxP6"
      }
    },
    {
      "cell_type": "markdown",
      "source": [
        "## **7.2. 자연대수**"
      ],
      "metadata": {
        "id": "YZ_-SHuGzKQU"
      }
    },
    {
      "cell_type": "markdown",
      "source": [
        "## **7.3. 자연대수 및 도함수**"
      ],
      "metadata": {
        "id": "afZX6vLrywt5"
      }
    },
    {
      "cell_type": "markdown",
      "source": [
        "## **7.4. 시그모이드 함수**"
      ],
      "metadata": {
        "id": "q7zTumRVzIdi"
      }
    },
    {
      "cell_type": "markdown",
      "source": [
        "# **8. 최급강화법**"
      ],
      "metadata": {
        "id": "eplBnPUUzIbO"
      }
    },
    {
      "cell_type": "markdown",
      "source": [
        "## **8.1. 최급강화법**"
      ],
      "metadata": {
        "id": "zVy-uoFozIYd"
      }
    },
    {
      "cell_type": "markdown",
      "source": [
        "## **8.2. 국소적 최솟값**"
      ],
      "metadata": {
        "id": "vIbWoAsDzIV1"
      }
    }
  ]
}