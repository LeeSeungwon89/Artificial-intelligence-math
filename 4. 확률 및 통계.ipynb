{
  "nbformat": 4,
  "nbformat_minor": 0,
  "metadata": {
    "colab": {
      "name": "4. 확률 및 통계.ipynb",
      "provenance": [],
      "toc_visible": true,
      "authorship_tag": "ABX9TyMyGxK8X3mU517Jr0uvOSTJ",
      "include_colab_link": true
    },
    "kernelspec": {
      "name": "python3",
      "display_name": "Python 3"
    },
    "language_info": {
      "name": "python"
    }
  },
  "cells": [
    {
      "cell_type": "markdown",
      "metadata": {
        "id": "view-in-github",
        "colab_type": "text"
      },
      "source": [
        "<a href=\"https://colab.research.google.com/github/LeeSeungwon89/Mathematics_for_Data_Analystics_Science/blob/main/4.%20%ED%99%95%EB%A5%A0%20%EB%B0%8F%20%ED%86%B5%EA%B3%84.ipynb\" target=\"_parent\"><img src=\"https://colab.research.google.com/assets/colab-badge.svg\" alt=\"Open In Colab\"/></a>"
      ]
    },
    {
      "cell_type": "markdown",
      "source": [
        "# **1. 기본 개념**"
      ],
      "metadata": {
        "id": "qYTeooEZ0cvN"
      }
    },
    {
      "cell_type": "markdown",
      "source": [
        "## **1.1. 확률**"
      ],
      "metadata": {
        "id": "ZX_njMgr0ckD"
      }
    },
    {
      "cell_type": "markdown",
      "source": [
        "## **1.2. 여사건**"
      ],
      "metadata": {
        "id": "otqwtY6z0cg7"
      }
    },
    {
      "cell_type": "markdown",
      "source": [
        "## **1.3. 수렴**"
      ],
      "metadata": {
        "id": "gwTxZlN_0ceD"
      }
    },
    {
      "cell_type": "markdown",
      "source": [
        "# **2. 평균값 및 기댓값**"
      ],
      "metadata": {
        "id": "yQ0IPKZI0cbU"
      }
    },
    {
      "cell_type": "markdown",
      "source": [
        "## **2.1. 평균값**"
      ],
      "metadata": {
        "id": "f6ydTvOb0cYi"
      }
    },
    {
      "cell_type": "markdown",
      "source": [
        "## **2.2. 기댓값**"
      ],
      "metadata": {
        "id": "2dIk0UbQ0cVi"
      }
    },
    {
      "cell_type": "markdown",
      "source": [
        "## **2.3. 평균값과 기댓값 관계**"
      ],
      "metadata": {
        "id": "olFC15z_0cSd"
      }
    },
    {
      "cell_type": "markdown",
      "source": [
        "# **3. 분산 및 표준편차**"
      ],
      "metadata": {
        "id": "Ta6J4Yc00cPb"
      }
    },
    {
      "cell_type": "markdown",
      "source": [
        "## **3.1. 분산**"
      ],
      "metadata": {
        "id": "NRCYJuXe1Fyp"
      }
    },
    {
      "cell_type": "markdown",
      "source": [
        "## **3.2. 표준편차**"
      ],
      "metadata": {
        "id": "hSIoutJE1Fv6"
      }
    },
    {
      "cell_type": "markdown",
      "source": [
        "# **4. 정규분포 및 거듭제곱 법칙**"
      ],
      "metadata": {
        "id": "7n1jVE1W1FtQ"
      }
    },
    {
      "cell_type": "markdown",
      "source": [
        "## **4.1. 정규분포**"
      ],
      "metadata": {
        "id": "5L6jUXxe1Fq1"
      }
    },
    {
      "cell_type": "markdown",
      "source": [
        "## **4.2. 거듭제곱 법칙**"
      ],
      "metadata": {
        "id": "daqPFqwn1FoQ"
      }
    },
    {
      "cell_type": "markdown",
      "source": [
        "# **5. 공분산**"
      ],
      "metadata": {
        "id": "M1BLlHg61Flq"
      }
    },
    {
      "cell_type": "markdown",
      "source": [
        "## **5.1. 공분산**"
      ],
      "metadata": {
        "id": "uEyjNF_m1k7X"
      }
    },
    {
      "cell_type": "markdown",
      "source": [
        "# **6. 상관계수**"
      ],
      "metadata": {
        "id": "7OL8qXtE1k49"
      }
    },
    {
      "cell_type": "markdown",
      "source": [
        "## **6.1. 상관계수**"
      ],
      "metadata": {
        "id": "2NIUz0vT1k2i"
      }
    },
    {
      "cell_type": "markdown",
      "source": [
        "# **7. 조건부 확률 및 베이즈 정리**"
      ],
      "metadata": {
        "id": "eCXRH_Xg1ky-"
      }
    },
    {
      "cell_type": "markdown",
      "source": [
        "## **7.1. 조건부 확률**"
      ],
      "metadata": {
        "id": "I0yeL2a02K5A"
      }
    },
    {
      "cell_type": "markdown",
      "source": [
        "## **7.2. 베이즈 정리**"
      ],
      "metadata": {
        "id": "-4NaOjKQ2K2s"
      }
    },
    {
      "cell_type": "markdown",
      "source": [
        "# **8. 우도**"
      ],
      "metadata": {
        "id": "uri5IVMW2K0H"
      }
    },
    {
      "cell_type": "markdown",
      "source": [
        "## **8.1. 우도**"
      ],
      "metadata": {
        "id": "XOayIqLB2KxR"
      }
    },
    {
      "cell_type": "markdown",
      "source": [
        "### **8.1.1. 작은 우도**"
      ],
      "metadata": {
        "id": "FnnOQYD12uER"
      }
    },
    {
      "cell_type": "markdown",
      "source": [
        "### **8.1.2. 큰 우도**"
      ],
      "metadata": {
        "id": "uYNFXHln2uBe"
      }
    },
    {
      "cell_type": "markdown",
      "source": [
        "## **8.2. 우도 파라미터**"
      ],
      "metadata": {
        "id": "HMNDW7sP2t-_"
      }
    },
    {
      "cell_type": "markdown",
      "source": [
        "# **9. 정보량**"
      ],
      "metadata": {
        "id": "qiAru7Hv2_6e"
      }
    },
    {
      "cell_type": "markdown",
      "source": [
        "## **9.1. 정보량**"
      ],
      "metadata": {
        "id": "GhLZ4oc13FiZ"
      }
    },
    {
      "cell_type": "markdown",
      "source": [
        "### **9.1.1. 선택정보량**"
      ],
      "metadata": {
        "id": "gBA1uE5i3JrF"
      }
    },
    {
      "cell_type": "markdown",
      "source": [
        "### **9.1.2. 평균정보량**"
      ],
      "metadata": {
        "id": "4eS_etMG3Qwn"
      }
    },
    {
      "cell_type": "markdown",
      "source": [
        "### **9.1.3. 교차엔트로피**"
      ],
      "metadata": {
        "id": "Csb8VlOY3Zii"
      }
    }
  ]
}